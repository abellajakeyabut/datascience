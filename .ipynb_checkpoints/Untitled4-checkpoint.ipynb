{
 "cells": [
  {
   "cell_type": "code",
   "execution_count": 2,
   "id": "12e91690",
   "metadata": {},
   "outputs": [],
   "source": [
    "import numpy as np"
   ]
  },
  {
   "cell_type": "code",
   "execution_count": 3,
   "id": "fd6ec2a2",
   "metadata": {},
   "outputs": [],
   "source": [
    "matrix_A = np.array([[1,0,0,3,1],[3,5,5,2,9],[4,5,3,8,0]])"
   ]
  },
  {
   "cell_type": "code",
   "execution_count": 4,
   "id": "1924c0ee",
   "metadata": {},
   "outputs": [
    {
     "data": {
      "text/plain": [
       "array([1. , 4.8, 4. ])"
      ]
     },
     "execution_count": 4,
     "metadata": {},
     "output_type": "execute_result"
    }
   ],
   "source": [
    "np.mean(matrix_A,axis=1)"
   ]
  },
  {
   "cell_type": "code",
   "execution_count": 5,
   "id": "4eb53e54",
   "metadata": {},
   "outputs": [
    {
     "data": {
      "text/plain": [
       "array([[1, 0, 0, 3, 1],\n",
       "       [3, 5, 5, 2, 9],\n",
       "       [4, 5, 3, 8, 0]])"
      ]
     },
     "execution_count": 5,
     "metadata": {},
     "output_type": "execute_result"
    }
   ],
   "source": [
    "matrix_A"
   ]
  },
  {
   "cell_type": "code",
   "execution_count": 6,
   "id": "f830f028",
   "metadata": {},
   "outputs": [
    {
     "data": {
      "text/plain": [
       "3.2666666666666666"
      ]
     },
     "execution_count": 6,
     "metadata": {},
     "output_type": "execute_result"
    }
   ],
   "source": [
    "np.mean(matrix_A)"
   ]
  },
  {
   "cell_type": "code",
   "execution_count": 7,
   "id": "2bafe73e",
   "metadata": {},
   "outputs": [
    {
     "data": {
      "text/plain": [
       "array([1. , 4.8, 4. ])"
      ]
     },
     "execution_count": 7,
     "metadata": {},
     "output_type": "execute_result"
    }
   ],
   "source": [
    "np.mean(matrix_A,axis=1)"
   ]
  },
  {
   "cell_type": "code",
   "execution_count": 8,
   "id": "e342ae12",
   "metadata": {},
   "outputs": [
    {
     "data": {
      "text/plain": [
       "array([2.66666667, 3.33333333, 2.66666667, 4.33333333, 3.33333333])"
      ]
     },
     "execution_count": 8,
     "metadata": {},
     "output_type": "execute_result"
    }
   ],
   "source": [
    "np.mean(matrix_A,axis=0)"
   ]
  },
  {
   "cell_type": "code",
   "execution_count": 9,
   "id": "f41ffe6f",
   "metadata": {},
   "outputs": [
    {
     "data": {
      "text/plain": [
       "array([], shape=(0, 5), dtype=int32)"
      ]
     },
     "execution_count": 9,
     "metadata": {},
     "output_type": "execute_result"
    }
   ],
   "source": [
    "matrix_A[:0]"
   ]
  },
  {
   "cell_type": "code",
   "execution_count": 10,
   "id": "fd657fdc",
   "metadata": {},
   "outputs": [
    {
     "data": {
      "text/plain": [
       "array([[1, 0, 0, 3, 1],\n",
       "       [3, 5, 5, 2, 9],\n",
       "       [4, 5, 3, 8, 0]])"
      ]
     },
     "execution_count": 10,
     "metadata": {},
     "output_type": "execute_result"
    }
   ],
   "source": [
    "matrix_A"
   ]
  },
  {
   "cell_type": "code",
   "execution_count": 11,
   "id": "a653b7c3",
   "metadata": {},
   "outputs": [
    {
     "data": {
      "text/plain": [
       "array([[1, 0, 0, 3, 1],\n",
       "       [3, 5, 5, 2, 9],\n",
       "       [4, 5, 3, 8, 0]])"
      ]
     },
     "execution_count": 11,
     "metadata": {},
     "output_type": "execute_result"
    }
   ],
   "source": [
    "matrix_A[:]"
   ]
  },
  {
   "cell_type": "code",
   "execution_count": 12,
   "id": "9b2b2702",
   "metadata": {},
   "outputs": [
    {
     "data": {
      "text/plain": [
       "array([], shape=(0, 5), dtype=int32)"
      ]
     },
     "execution_count": 12,
     "metadata": {},
     "output_type": "execute_result"
    }
   ],
   "source": [
    "matrix_A[:0]"
   ]
  },
  {
   "cell_type": "code",
   "execution_count": 12,
   "id": "6578eb2c",
   "metadata": {},
   "outputs": [
    {
     "data": {
      "text/plain": [
       "array([[1, 0, 0, 3, 1]])"
      ]
     },
     "execution_count": 12,
     "metadata": {},
     "output_type": "execute_result"
    }
   ],
   "source": [
    "matrix_A[0:1]"
   ]
  },
  {
   "cell_type": "code",
   "execution_count": 27,
   "id": "b1509be9",
   "metadata": {},
   "outputs": [
    {
     "data": {
      "text/plain": [
       "3.3333333333333335"
      ]
     },
     "execution_count": 27,
     "metadata": {},
     "output_type": "execute_result"
    }
   ],
   "source": [
    "np.mean(matrix_A[:,1])"
   ]
  },
  {
   "cell_type": "code",
   "execution_count": 28,
   "id": "a40fecf6",
   "metadata": {},
   "outputs": [
    {
     "data": {
      "text/plain": [
       "3.2666666666666666"
      ]
     },
     "execution_count": 28,
     "metadata": {},
     "output_type": "execute_result"
    }
   ],
   "source": [
    "matrix_A.mean()"
   ]
  },
  {
   "cell_type": "code",
   "execution_count": 30,
   "id": "bfc075b6",
   "metadata": {},
   "outputs": [
    {
     "data": {
      "text/plain": [
       "3.2666666666666666"
      ]
     },
     "execution_count": 30,
     "metadata": {},
     "output_type": "execute_result"
    }
   ],
   "source": [
    "np.mean(matrix_A)"
   ]
  },
  {
   "cell_type": "code",
   "execution_count": 47,
   "id": "121c4619",
   "metadata": {},
   "outputs": [
    {
     "data": {
      "text/plain": [
       "0"
      ]
     },
     "execution_count": 47,
     "metadata": {},
     "output_type": "execute_result"
    }
   ],
   "source": [
    "np.amin(matrix_A)"
   ]
  },
  {
   "cell_type": "code",
   "execution_count": 66,
   "id": "0ffda86e",
   "metadata": {},
   "outputs": [
    {
     "data": {
      "text/plain": [
       "array([0, 3, 4])"
      ]
     },
     "execution_count": 66,
     "metadata": {},
     "output_type": "execute_result"
    }
   ],
   "source": [
    "np.minimum(matrix_A[0:,1],matrix_A[0:,0])"
   ]
  },
  {
   "cell_type": "code",
   "execution_count": 67,
   "id": "07b9ce6a",
   "metadata": {},
   "outputs": [
    {
     "data": {
      "text/plain": [
       "array([4, 5, 5, 8, 9])"
      ]
     },
     "execution_count": 67,
     "metadata": {},
     "output_type": "execute_result"
    }
   ],
   "source": [
    "np.maximum(matrix_A[1],matrix_A[2])"
   ]
  },
  {
   "cell_type": "code",
   "execution_count": 69,
   "id": "290bb701",
   "metadata": {},
   "outputs": [
    {
     "data": {
      "text/plain": [
       "array([[0, 0, 1, 1, 3],\n",
       "       [2, 3, 5, 5, 9],\n",
       "       [0, 3, 4, 5, 8]])"
      ]
     },
     "execution_count": 69,
     "metadata": {},
     "output_type": "execute_result"
    }
   ],
   "source": [
    "np.sort(matrix_A,axis=1)"
   ]
  },
  {
   "cell_type": "code",
   "execution_count": 70,
   "id": "c8ca90af",
   "metadata": {},
   "outputs": [
    {
     "data": {
      "text/plain": [
       "array([[1, 0, 0, 2, 0],\n",
       "       [3, 5, 3, 3, 1],\n",
       "       [4, 5, 5, 8, 9]])"
      ]
     },
     "execution_count": 70,
     "metadata": {},
     "output_type": "execute_result"
    }
   ],
   "source": [
    "np.sort(matrix_A,axis=0)"
   ]
  },
  {
   "cell_type": "code",
   "execution_count": 86,
   "id": "1f0ad4ac",
   "metadata": {},
   "outputs": [
    {
     "data": {
      "text/plain": [
       "0"
      ]
     },
     "execution_count": 86,
     "metadata": {},
     "output_type": "execute_result"
    }
   ],
   "source": [
    "np.ptp(matrix_A[1:,1])"
   ]
  },
  {
   "cell_type": "code",
   "execution_count": 87,
   "id": "d308ada3",
   "metadata": {},
   "outputs": [
    {
     "data": {
      "text/plain": [
       "5"
      ]
     },
     "execution_count": 87,
     "metadata": {},
     "output_type": "execute_result"
    }
   ],
   "source": [
    "np.ptp(matrix_A[0:,1])"
   ]
  },
  {
   "cell_type": "code",
   "execution_count": 89,
   "id": "80174b3b",
   "metadata": {},
   "outputs": [
    {
     "data": {
      "text/plain": [
       "array([3, 5, 5, 6, 9])"
      ]
     },
     "execution_count": 89,
     "metadata": {},
     "output_type": "execute_result"
    }
   ],
   "source": [
    "np.ptp(matrix_A,axis=0)"
   ]
  },
  {
   "cell_type": "code",
   "execution_count": 102,
   "id": "00f46aca",
   "metadata": {},
   "outputs": [
    {
     "data": {
      "text/plain": [
       "8"
      ]
     },
     "execution_count": 102,
     "metadata": {},
     "output_type": "execute_result"
    }
   ],
   "source": [
    "np.percentile(matrix_A,90, method=\"higher\")"
   ]
  },
  {
   "cell_type": "code",
   "execution_count": 13,
   "id": "6e1f508e",
   "metadata": {},
   "outputs": [
    {
     "data": {
      "text/plain": [
       "array([[1, 0, 0, 3, 1],\n",
       "       [3, 5, 5, 2, 9],\n",
       "       [4, 5, 3, 8, 0]])"
      ]
     },
     "execution_count": 13,
     "metadata": {},
     "output_type": "execute_result"
    }
   ],
   "source": [
    "matrix_A\n"
   ]
  },
  {
   "cell_type": "code",
   "execution_count": null,
   "id": "75bf17f1",
   "metadata": {},
   "outputs": [],
   "source": []
  }
 ],
 "metadata": {
  "kernelspec": {
   "display_name": "Python 3 (ipykernel)",
   "language": "python",
   "name": "python3"
  },
  "language_info": {
   "codemirror_mode": {
    "name": "ipython",
    "version": 3
   },
   "file_extension": ".py",
   "mimetype": "text/x-python",
   "name": "python",
   "nbconvert_exporter": "python",
   "pygments_lexer": "ipython3",
   "version": "3.11.3"
  }
 },
 "nbformat": 4,
 "nbformat_minor": 5
}
