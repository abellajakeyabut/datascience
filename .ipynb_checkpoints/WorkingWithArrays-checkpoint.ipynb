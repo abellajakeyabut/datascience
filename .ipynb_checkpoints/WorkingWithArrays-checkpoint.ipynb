{
 "cells": [
  {
   "cell_type": "code",
   "execution_count": 9,
   "id": "ce55854b",
   "metadata": {},
   "outputs": [],
   "source": [
    "import numpy as np\n"
   ]
  },
  {
   "cell_type": "code",
   "execution_count": 10,
   "id": "58dd0a57",
   "metadata": {},
   "outputs": [],
   "source": [
    "matrix_A = np.array([[1,2,3],[4,5,6]])"
   ]
  },
  {
   "cell_type": "code",
   "execution_count": 20,
   "id": "866a8b1a",
   "metadata": {},
   "outputs": [
    {
     "data": {
      "text/plain": [
       "array([[1, 2, 3],\n",
       "       [4, 5, 6]])"
      ]
     },
     "execution_count": 20,
     "metadata": {},
     "output_type": "execute_result"
    }
   ],
   "source": [
    "matrix_A[:,:]"
   ]
  },
  {
   "cell_type": "code",
   "execution_count": 29,
   "id": "c90dd98f",
   "metadata": {},
   "outputs": [
    {
     "data": {
      "text/plain": [
       "array([[1, 2, 3],\n",
       "       [4, 5, 6]])"
      ]
     },
     "execution_count": 29,
     "metadata": {},
     "output_type": "execute_result"
    }
   ],
   "source": [
    "matrix_A[:111]"
   ]
  },
  {
   "cell_type": "code",
   "execution_count": 30,
   "id": "f419b4a3",
   "metadata": {},
   "outputs": [],
   "source": [
    "matrix_C = np.array([[1,1,1,2,0],[3,6,6,7,4],[4,5,3,8,0]])"
   ]
  },
  {
   "cell_type": "code",
   "execution_count": 31,
   "id": "e5c5e8fd",
   "metadata": {},
   "outputs": [
    {
     "data": {
      "text/plain": [
       "array([[1, 1, 1, 2, 0],\n",
       "       [3, 6, 6, 7, 4],\n",
       "       [4, 5, 3, 8, 0]])"
      ]
     },
     "execution_count": 31,
     "metadata": {},
     "output_type": "execute_result"
    }
   ],
   "source": [
    "matrix_C"
   ]
  },
  {
   "cell_type": "code",
   "execution_count": 35,
   "id": "c90c8ab9",
   "metadata": {},
   "outputs": [
    {
     "data": {
      "text/plain": [
       "array([[False, False, False, False, False],\n",
       "       [ True,  True,  True,  True,  True],\n",
       "       [ True,  True,  True,  True, False]])"
      ]
     },
     "execution_count": 35,
     "metadata": {},
     "output_type": "execute_result"
    }
   ],
   "source": [
    "matrix_C[:] > 2"
   ]
  },
  {
   "cell_type": "code",
   "execution_count": 36,
   "id": "6967cff6",
   "metadata": {},
   "outputs": [
    {
     "data": {
      "text/plain": [
       "array([3, 6, 6, 7, 4, 4, 5, 3, 8])"
      ]
     },
     "execution_count": 36,
     "metadata": {},
     "output_type": "execute_result"
    }
   ],
   "source": [
    "matrix_C[matrix_C[:]>2]"
   ]
  },
  {
   "cell_type": "code",
   "execution_count": 37,
   "id": "7d3d983d",
   "metadata": {},
   "outputs": [
    {
     "data": {
      "text/plain": [
       "array([2, 0, 6, 6, 4, 4, 8, 0])"
      ]
     },
     "execution_count": 37,
     "metadata": {},
     "output_type": "execute_result"
    }
   ],
   "source": [
    "#all even\n",
    "matrix_C[matrix_C[:] % 2 ==0 ]"
   ]
  },
  {
   "cell_type": "code",
   "execution_count": 45,
   "id": "a91b0d27",
   "metadata": {},
   "outputs": [
    {
     "data": {
      "text/plain": [
       "array([6, 6, 8])"
      ]
     },
     "execution_count": 45,
     "metadata": {},
     "output_type": "execute_result"
    }
   ],
   "source": [
    "matrix_C[(matrix_C[:] % 2 == 0) & (matrix_C[:]>4)]"
   ]
  },
  {
   "cell_type": "markdown",
   "id": "dc7a44a5",
   "metadata": {},
   "source": [
    "Squeeze Function"
   ]
  },
  {
   "cell_type": "code",
   "execution_count": 46,
   "id": "86d14acd",
   "metadata": {},
   "outputs": [],
   "source": [
    "matrix_D = np.array([[1,1,1,2,0],[3,6,6,7,4],[4,5,3,8,0]])"
   ]
  },
  {
   "cell_type": "code",
   "execution_count": 47,
   "id": "ad1e253a",
   "metadata": {},
   "outputs": [
    {
     "data": {
      "text/plain": [
       "array([[1, 1, 1, 2, 0],\n",
       "       [3, 6, 6, 7, 4],\n",
       "       [4, 5, 3, 8, 0]])"
      ]
     },
     "execution_count": 47,
     "metadata": {},
     "output_type": "execute_result"
    }
   ],
   "source": [
    "matrix_D"
   ]
  },
  {
   "cell_type": "code",
   "execution_count": 48,
   "id": "18fe90dd",
   "metadata": {},
   "outputs": [
    {
     "data": {
      "text/plain": [
       "numpy.int32"
      ]
     },
     "execution_count": 48,
     "metadata": {},
     "output_type": "execute_result"
    }
   ],
   "source": [
    "type(matrix_D[0,0])"
   ]
  },
  {
   "cell_type": "code",
   "execution_count": 49,
   "id": "7bf61e38",
   "metadata": {},
   "outputs": [
    {
     "data": {
      "text/plain": [
       "numpy.ndarray"
      ]
     },
     "execution_count": 49,
     "metadata": {},
     "output_type": "execute_result"
    }
   ],
   "source": [
    "type(matrix_D[0:,0:1])"
   ]
  },
  {
   "cell_type": "code",
   "execution_count": 54,
   "id": "be28f87a",
   "metadata": {},
   "outputs": [
    {
     "data": {
      "text/plain": [
       "(1,)"
      ]
     },
     "execution_count": 54,
     "metadata": {},
     "output_type": "execute_result"
    }
   ],
   "source": [
    "matrix_D[0,0:1].shape"
   ]
  },
  {
   "cell_type": "code",
   "execution_count": 53,
   "id": "c95852a1",
   "metadata": {},
   "outputs": [
    {
     "data": {
      "text/plain": [
       "(1, 1)"
      ]
     },
     "execution_count": 53,
     "metadata": {},
     "output_type": "execute_result"
    }
   ],
   "source": [
    "matrix_D[0:1,0:1].shape"
   ]
  },
  {
   "cell_type": "code",
   "execution_count": 60,
   "id": "6ea1f433",
   "metadata": {},
   "outputs": [
    {
     "data": {
      "text/plain": [
       "(1, 1)"
      ]
     },
     "execution_count": 60,
     "metadata": {},
     "output_type": "execute_result"
    }
   ],
   "source": [
    "matrix_D[0:1,0:1].shape"
   ]
  },
  {
   "cell_type": "code",
   "execution_count": 65,
   "id": "00d90d05",
   "metadata": {},
   "outputs": [
    {
     "data": {
      "text/plain": [
       "(2,)"
      ]
     },
     "execution_count": 65,
     "metadata": {},
     "output_type": "execute_result"
    }
   ],
   "source": [
    "matrix_D[0:1,0:2].squeeze().shape"
   ]
  },
  {
   "cell_type": "code",
   "execution_count": null,
   "id": "fb0e7e1c",
   "metadata": {},
   "outputs": [],
   "source": []
  }
 ],
 "metadata": {
  "kernelspec": {
   "display_name": "Python 3 (ipykernel)",
   "language": "python",
   "name": "python3"
  },
  "language_info": {
   "codemirror_mode": {
    "name": "ipython",
    "version": 3
   },
   "file_extension": ".py",
   "mimetype": "text/x-python",
   "name": "python",
   "nbconvert_exporter": "python",
   "pygments_lexer": "ipython3",
   "version": "3.11.3"
  }
 },
 "nbformat": 4,
 "nbformat_minor": 5
}
