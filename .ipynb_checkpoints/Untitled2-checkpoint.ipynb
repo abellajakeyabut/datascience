{
 "cells": [
  {
   "cell_type": "code",
   "execution_count": 9,
   "id": "781d24a4",
   "metadata": {},
   "outputs": [],
   "source": [
    "import numpy as np\n"
   ]
  },
  {
   "cell_type": "code",
   "execution_count": 10,
   "id": "e3e09e03",
   "metadata": {},
   "outputs": [],
   "source": [
    "matrix_A = np.array([[1,2,3],[4,5,6]])"
   ]
  },
  {
   "cell_type": "code",
   "execution_count": 20,
   "id": "8398a28a",
   "metadata": {},
   "outputs": [
    {
     "data": {
      "text/plain": [
       "array([[1, 2, 3],\n",
       "       [4, 5, 6]])"
      ]
     },
     "execution_count": 20,
     "metadata": {},
     "output_type": "execute_result"
    }
   ],
   "source": [
    "matrix_A[:,:]"
   ]
  },
  {
   "cell_type": "code",
   "execution_count": 29,
   "id": "18e22dc4",
   "metadata": {},
   "outputs": [
    {
     "data": {
      "text/plain": [
       "array([[1, 2, 3],\n",
       "       [4, 5, 6]])"
      ]
     },
     "execution_count": 29,
     "metadata": {},
     "output_type": "execute_result"
    }
   ],
   "source": [
    "matrix_A[:111]"
   ]
  },
  {
   "cell_type": "code",
   "execution_count": 30,
   "id": "74c15477",
   "metadata": {},
   "outputs": [],
   "source": [
    "matrix_C = np.array([[1,1,1,2,0],[3,6,6,7,4],[4,5,3,8,0]])"
   ]
  },
  {
   "cell_type": "code",
   "execution_count": 31,
   "id": "bb24a6f7",
   "metadata": {},
   "outputs": [
    {
     "data": {
      "text/plain": [
       "array([[1, 1, 1, 2, 0],\n",
       "       [3, 6, 6, 7, 4],\n",
       "       [4, 5, 3, 8, 0]])"
      ]
     },
     "execution_count": 31,
     "metadata": {},
     "output_type": "execute_result"
    }
   ],
   "source": [
    "matrix_C"
   ]
  },
  {
   "cell_type": "code",
   "execution_count": 35,
   "id": "dc8b30db",
   "metadata": {},
   "outputs": [
    {
     "data": {
      "text/plain": [
       "array([[False, False, False, False, False],\n",
       "       [ True,  True,  True,  True,  True],\n",
       "       [ True,  True,  True,  True, False]])"
      ]
     },
     "execution_count": 35,
     "metadata": {},
     "output_type": "execute_result"
    }
   ],
   "source": [
    "matrix_C[:] > 2"
   ]
  },
  {
   "cell_type": "code",
   "execution_count": 36,
   "id": "a1767d82",
   "metadata": {},
   "outputs": [
    {
     "data": {
      "text/plain": [
       "array([3, 6, 6, 7, 4, 4, 5, 3, 8])"
      ]
     },
     "execution_count": 36,
     "metadata": {},
     "output_type": "execute_result"
    }
   ],
   "source": [
    "matrix_C[matrix_C[:]>2]"
   ]
  },
  {
   "cell_type": "code",
   "execution_count": 37,
   "id": "fc068bb1",
   "metadata": {},
   "outputs": [
    {
     "data": {
      "text/plain": [
       "array([2, 0, 6, 6, 4, 4, 8, 0])"
      ]
     },
     "execution_count": 37,
     "metadata": {},
     "output_type": "execute_result"
    }
   ],
   "source": [
    "#all even\n",
    "matrix_C[matrix_C[:] % 2 ==0 ]"
   ]
  },
  {
   "cell_type": "code",
   "execution_count": 45,
   "id": "86b3d0f5",
   "metadata": {},
   "outputs": [
    {
     "data": {
      "text/plain": [
       "array([6, 6, 8])"
      ]
     },
     "execution_count": 45,
     "metadata": {},
     "output_type": "execute_result"
    }
   ],
   "source": [
    "matrix_C[(matrix_C[:] % 2 == 0) & (matrix_C[:]>4)]"
   ]
  },
  {
   "cell_type": "markdown",
   "id": "3aafe0dd",
   "metadata": {},
   "source": [
    "Squeeze Function"
   ]
  },
  {
   "cell_type": "code",
   "execution_count": 46,
   "id": "3187cb3c",
   "metadata": {},
   "outputs": [],
   "source": [
    "matrix_D = np.array([[1,1,1,2,0],[3,6,6,7,4],[4,5,3,8,0]])"
   ]
  },
  {
   "cell_type": "code",
   "execution_count": 47,
   "id": "d33c6fd1",
   "metadata": {},
   "outputs": [
    {
     "data": {
      "text/plain": [
       "array([[1, 1, 1, 2, 0],\n",
       "       [3, 6, 6, 7, 4],\n",
       "       [4, 5, 3, 8, 0]])"
      ]
     },
     "execution_count": 47,
     "metadata": {},
     "output_type": "execute_result"
    }
   ],
   "source": [
    "matrix_D"
   ]
  },
  {
   "cell_type": "code",
   "execution_count": 48,
   "id": "1bd9f01c",
   "metadata": {},
   "outputs": [
    {
     "data": {
      "text/plain": [
       "numpy.int32"
      ]
     },
     "execution_count": 48,
     "metadata": {},
     "output_type": "execute_result"
    }
   ],
   "source": [
    "type(matrix_D[0,0])"
   ]
  },
  {
   "cell_type": "code",
   "execution_count": 49,
   "id": "75f26e21",
   "metadata": {},
   "outputs": [
    {
     "data": {
      "text/plain": [
       "numpy.ndarray"
      ]
     },
     "execution_count": 49,
     "metadata": {},
     "output_type": "execute_result"
    }
   ],
   "source": [
    "type(matrix_D[0:,0:1])"
   ]
  },
  {
   "cell_type": "code",
   "execution_count": 54,
   "id": "29c7c9ae",
   "metadata": {},
   "outputs": [
    {
     "data": {
      "text/plain": [
       "(1,)"
      ]
     },
     "execution_count": 54,
     "metadata": {},
     "output_type": "execute_result"
    }
   ],
   "source": [
    "matrix_D[0,0:1].shape"
   ]
  },
  {
   "cell_type": "code",
   "execution_count": 53,
   "id": "2c7c77c3",
   "metadata": {},
   "outputs": [
    {
     "data": {
      "text/plain": [
       "(1, 1)"
      ]
     },
     "execution_count": 53,
     "metadata": {},
     "output_type": "execute_result"
    }
   ],
   "source": [
    "matrix_D[0:1,0:1].shape"
   ]
  },
  {
   "cell_type": "code",
   "execution_count": 60,
   "id": "9c49ef13",
   "metadata": {},
   "outputs": [
    {
     "data": {
      "text/plain": [
       "(1, 1)"
      ]
     },
     "execution_count": 60,
     "metadata": {},
     "output_type": "execute_result"
    }
   ],
   "source": [
    "matrix_D[0:1,0:1].shape"
   ]
  },
  {
   "cell_type": "code",
   "execution_count": 65,
   "id": "6c05a408",
   "metadata": {},
   "outputs": [
    {
     "data": {
      "text/plain": [
       "(2,)"
      ]
     },
     "execution_count": 65,
     "metadata": {},
     "output_type": "execute_result"
    }
   ],
   "source": [
    "matrix_D[0:1,0:2].squeeze().shape"
   ]
  },
  {
   "cell_type": "code",
   "execution_count": null,
   "id": "ff4c1cac",
   "metadata": {},
   "outputs": [],
   "source": []
  }
 ],
 "metadata": {
  "kernelspec": {
   "display_name": "Python 3 (ipykernel)",
   "language": "python",
   "name": "python3"
  },
  "language_info": {
   "codemirror_mode": {
    "name": "ipython",
    "version": 3
   },
   "file_extension": ".py",
   "mimetype": "text/x-python",
   "name": "python",
   "nbconvert_exporter": "python",
   "pygments_lexer": "ipython3",
   "version": "3.11.3"
  }
 },
 "nbformat": 4,
 "nbformat_minor": 5
}
