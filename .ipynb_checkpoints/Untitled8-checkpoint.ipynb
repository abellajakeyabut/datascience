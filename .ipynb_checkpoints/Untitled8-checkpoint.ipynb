{
 "cells": [
  {
   "cell_type": "code",
   "execution_count": 1,
   "id": "90f2a1c7",
   "metadata": {},
   "outputs": [],
   "source": [
    "import numpy as np"
   ]
  },
  {
   "cell_type": "code",
   "execution_count": 2,
   "id": "215e7500",
   "metadata": {},
   "outputs": [],
   "source": [
    "np.set_printoptions(suppress=True, linewidth=100, precision=2)"
   ]
  },
  {
   "cell_type": "code",
   "execution_count": 38,
   "id": "166b8bf9",
   "metadata": {},
   "outputs": [],
   "source": [
    "#1. LOAD Data from Text\n",
    "#skip header (first row)\n",
    "#autostrip=True : to delete whitespaces\n",
    "\n",
    "data = np.genfromtxt(\"D:\\JakeProjects\\DataScience\\datascience\\loan-data.csv\",delimiter=\";\",encoding='utf-8',skip_header=1, autostrip=True)"
   ]
  },
  {
   "cell_type": "code",
   "execution_count": 43,
   "id": "15b2763b",
   "metadata": {},
   "outputs": [
    {
     "name": "stderr",
     "output_type": "stream",
     "text": [
      "C:\\Users\\Jake\\AppData\\Local\\Temp\\ipykernel_9936\\272392827.py:5: RuntimeWarning: Mean of empty slice\n",
      "  temporary_mean = np.nanmean(data,axis=0)\n"
     ]
    }
   ],
   "source": [
    "#2. Check the data out.\n",
    "#Use isnan(data) function to get all NAN data from the array \"data\" in this case.\n",
    "# isnan returns all data in data set that are NAN\n",
    "#if SUM of NAN items in collection > 0 it means there are NAN values in the array\n",
    "np.isnan(data).sum()\n",
    "\n",
    "#get the max value (ignore NAN)\n",
    "temporary_fill = np.nanmax(data)+1\n",
    "#temporary_mean = np.nanmean(data,axis=0)\n",
    "#get mean value of all columns (ignore  NAN)\n",
    "temporary_mean = np.nanmean(data,axis=0)\n"
   ]
  },
  {
   "cell_type": "code",
   "execution_count": 44,
   "id": "0fe91774",
   "metadata": {},
   "outputs": [
    {
     "name": "stderr",
     "output_type": "stream",
     "text": [
      "C:\\Users\\Jake\\AppData\\Local\\Temp\\ipykernel_9936\\3914177340.py:1: RuntimeWarning: All-NaN slice encountered\n",
      "  temporary_stats = np.array([np.nanmin(data,axis=0),temporary_mean,np.nanmax(data,axis=0)])\n"
     ]
    }
   ],
   "source": [
    "#make an array containing :\n",
    "#NANMIN of data from axis=0 means (column)\n",
    "#NAN Mean of data from axis=0 means (column)\n",
    "#NAN MAX of data from axis=0 means (column)\n",
    "temporary_stats = np.array([np.nanmin(data,axis=0),temporary_mean,np.nanmax(data,axis=0)])\n",
    "\n",
    "#This will give us 3 rows :\n",
    "#Row #1 NANMIN\n",
    "#Row #2 NANMEAN\n",
    "#Row #3 NANMAX\n"
   ]
  },
  {
   "cell_type": "code",
   "execution_count": 45,
   "id": "713c955f",
   "metadata": {},
   "outputs": [
    {
     "data": {
      "text/plain": [
       "array([[  373332.  ,         nan,     1000.  ,         nan,     1000.  ,         nan,        6.  ,\n",
       "              31.42,         nan,         nan,         nan,         nan,         nan,        0.  ],\n",
       "       [54015809.19,         nan,    15273.46,         nan,    15311.04,         nan,       16.62,\n",
       "             440.92,         nan,         nan,         nan,         nan,         nan,     3143.85],\n",
       "       [68616519.  ,         nan,    35000.  ,         nan,    35000.  ,         nan,       28.99,\n",
       "            1372.97,         nan,         nan,         nan,         nan,         nan,    41913.62]])"
      ]
     },
     "execution_count": 45,
     "metadata": {},
     "output_type": "execute_result"
    }
   ],
   "source": [
    "temporary_stats"
   ]
  },
  {
   "cell_type": "code",
   "execution_count": 49,
   "id": "d1494c63",
   "metadata": {},
   "outputs": [
    {
     "data": {
      "text/plain": [
       "array([[  373332.  ,         nan,     1000.  ,         nan,     1000.  ,         nan,        6.  ,\n",
       "              31.42,         nan,         nan,         nan,         nan,         nan,        0.  ],\n",
       "       [54015809.19,         nan,    15273.46,         nan,    15311.04,         nan,       16.62,\n",
       "             440.92,         nan,         nan,         nan,         nan,         nan,     3143.85],\n",
       "       [68616519.  ,         nan,    35000.  ,         nan,    35000.  ,         nan,       28.99,\n",
       "            1372.97,         nan,         nan,         nan,         nan,         nan,    41913.62]])"
      ]
     },
     "execution_count": 49,
     "metadata": {},
     "output_type": "execute_result"
    }
   ],
   "source": [
    "temporary_stats"
   ]
  },
  {
   "cell_type": "code",
   "execution_count": 107,
   "id": "63efa44d",
   "metadata": {},
   "outputs": [
    {
     "data": {
      "text/plain": [
       "array([ 0,  2,  4,  6,  7, 13], dtype=int64)"
      ]
     },
     "execution_count": 107,
     "metadata": {},
     "output_type": "execute_result"
    }
   ],
   "source": [
    "#Extracts the indeces of NAN means\n",
    "#As the result of arg where is a 2D array with the other Dimension being null\n",
    "#Use the squeeze function to reduce it to a single one\n",
    "#AT THIS POINT :\n",
    "#temporary_mean will have the mean for all columns\n",
    "#those columns that are texts will be NAN, there fore this will return all indeces of columns columns\n",
    "#that are text as argwhere condition is looking for \n",
    "#temporary_mean that is NAN\n",
    "\n",
    "columns_strings = np.argwhere(np.isnan(temporary_mean)).squeeze()\n",
    "\n",
    "#AT THIS POINT :\n",
    "#temporary_mean will have the mean for all columns\n",
    "#those columns that are texts will be NAN, there fore this will return all indeces of columns that are not NAN\n",
    "\n",
    "columns_numeric = np.argwhere(np.isnan(temporary_mean)==False).squeeze()\n",
    "#extract indeces of numeric data\n",
    "columns_numeric\n",
    "#AT the end of this snippet we have columns_numeric = Shows all indeces of columns that has numeric content\n",
    "#And we have columns_string which shows all columns that has string content\n"
   ]
  },
  {
   "cell_type": "code",
   "execution_count": 143,
   "id": "6b8184d8",
   "metadata": {},
   "outputs": [],
   "source": [
    "#SPLITTING DATA - STRING values extract\n",
    "#this will load all data from text but only for columns that are string\n",
    "# this is controled by usecols argument on np.genfromtxt.\n",
    "#usecols=columns_strings tells us to load only string columns from the data file\n",
    "#columns_strings were derived in previous code\n",
    "loan_data_strings = np.genfromtxt(\"D:\\JakeProjects\\DataScience\\datascience\\loan-data.csv\",delimiter = \";\",skip_header=1,autostrip=True,\n",
    "                                  usecols=columns_strings,\n",
    "                                  dtype=str,\n",
    "                                 encoding=\"utf-8\")"
   ]
  },
  {
   "cell_type": "code",
   "execution_count": 144,
   "id": "36057451",
   "metadata": {},
   "outputs": [
    {
     "data": {
      "text/plain": [
       "array([['May-15', 'Current', '36 months', ..., 'Verified',\n",
       "        'https://www.lendingclub.com/browse/loanDetail.action?loan_id=48010226', 'CA'],\n",
       "       ['', 'Current', '36 months', ..., 'Source Verified',\n",
       "        'https://www.lendingclub.com/browse/loanDetail.action?loan_id=57693261', 'NY'],\n",
       "       ['Sep-15', 'Current', '36 months', ..., 'Verified',\n",
       "        'https://www.lendingclub.com/browse/loanDetail.action?loan_id=59432726', 'PA'],\n",
       "       ...,\n",
       "       ['Jun-15', 'Current', '36 months', ..., 'Source Verified',\n",
       "        'https://www.lendingclub.com/browse/loanDetail.action?loan_id=50415990', 'CA'],\n",
       "       ['Apr-15', 'Current', '36 months', ..., 'Source Verified',\n",
       "        'https://www.lendingclub.com/browse/loanDetail.action?loan_id=46154151', 'OH'],\n",
       "       ['Dec-15', 'Current', '36 months', ..., '',\n",
       "        'https://www.lendingclub.com/browse/loanDetail.action?loan_id=66055249', 'IL']],\n",
       "      dtype='<U69')"
      ]
     },
     "execution_count": 144,
     "metadata": {},
     "output_type": "execute_result"
    }
   ],
   "source": [
    "loan_data_strings"
   ]
  },
  {
   "cell_type": "code",
   "execution_count": 65,
   "id": "9d87fe25",
   "metadata": {},
   "outputs": [],
   "source": [
    "#SPLITTING DATA - NUMERIC values extraction \n",
    "#this will load all data from text but only for columns that are numeric\n",
    "# this is controled by usecols argument on np.genfromtxt.\n",
    "#usecols=columns_numeric tells us to load only string columns from the data file\n",
    "#columns_numeric were derived in previous code\n",
    "loan_data_numeric = np.genfromtxt(\"D:\\JakeProjects\\DataScience\\datascience\\loan-data.csv\",delimiter = \";\",skip_header=1,autostrip=True,\n",
    "                                  usecols=columns_numeric,\n",
    "                                 encoding=\"utf-8\")"
   ]
  },
  {
   "cell_type": "code",
   "execution_count": 66,
   "id": "b068b639",
   "metadata": {},
   "outputs": [
    {
     "data": {
      "text/plain": [
       "array([[48010226.  ,    35000.  ,    35000.  ,       13.33,     1184.86,     9452.96],\n",
       "       [57693261.  ,    30000.  ,    30000.  ,         nan,      938.57,     4679.7 ],\n",
       "       [59432726.  ,    15000.  ,    15000.  ,         nan,      494.86,     1969.83],\n",
       "       ...,\n",
       "       [50415990.  ,    10000.  ,    10000.  ,         nan,         nan,     2185.64],\n",
       "       [46154151.  ,         nan,    10000.  ,       16.55,      354.3 ,     3199.4 ],\n",
       "       [66055249.  ,    10000.  ,    10000.  ,         nan,      309.97,      301.9 ]])"
      ]
     },
     "execution_count": 66,
     "metadata": {},
     "output_type": "execute_result"
    }
   ],
   "source": [
    "loan_data_numeric"
   ]
  },
  {
   "cell_type": "code",
   "execution_count": 109,
   "id": "96502bea",
   "metadata": {},
   "outputs": [],
   "source": [
    "#SPLITTING DATA - Getting header\n",
    "#header_full will load file skipping all of the rows except for first row The header\n",
    "#this is done ia skip_footer = data.shape[0]\n",
    "#data.shape[0] reflects row count, since data was loaded without headers, the data.shape[0] should cover\n",
    "#all the contents of the array minus the header\n",
    "# in the  end this will only return headers\n",
    "\n",
    "header_full = np.genfromtxt(\"D:\\JakeProjects\\DataScience\\datascience\\loan-data.csv\",delimiter = \";\",autostrip=True,\n",
    "                                  skip_footer = data.shape[0],\n",
    "                                 encoding=\"utf-8\",dtype=str)\n",
    "#SPLITTING DATA - Getting header for strings\n",
    "#header_full will load file skipping all of the rows except for first row The header\n",
    "#this is done ia skip_footer = data.shape[0]\n",
    "#data.shape[0] reflects row count, since data was loaded without headers, the data.shape[0] should cover\n",
    "#all the contents of the array minus the header\n",
    "# in the  end this will only return headers where columns are string columns only (as per the usecols argument)\n",
    "\n",
    "header_string = np.genfromtxt(\"D:\\JakeProjects\\DataScience\\datascience\\loan-data.csv\",delimiter = \";\",autostrip=True,\n",
    "                                  skip_footer = data.shape[0],\n",
    "                                 usecols=columns_strings,\n",
    "                                 encoding=\"utf-8\",dtype=str)\n",
    "\n"
   ]
  },
  {
   "cell_type": "code",
   "execution_count": 77,
   "id": "d2398b7f",
   "metadata": {},
   "outputs": [
    {
     "data": {
      "text/plain": [
       "array(['id', 'issue_d', 'loan_amnt', 'loan_status', 'funded_amnt', 'term', 'int_rate',\n",
       "       'installment', 'grade', 'sub_grade', 'verification_status', 'url', 'addr_state',\n",
       "       'total_pymnt'], dtype='<U19')"
      ]
     },
     "execution_count": 77,
     "metadata": {},
     "output_type": "execute_result"
    }
   ],
   "source": [
    "header_full"
   ]
  },
  {
   "cell_type": "code",
   "execution_count": 110,
   "id": "c533f0ef",
   "metadata": {},
   "outputs": [
    {
     "data": {
      "text/plain": [
       "array(['issue_d', 'loan_status', 'term', 'grade', 'sub_grade', 'verification_status', 'url',\n",
       "       'addr_state'], dtype='<U19')"
      ]
     },
     "execution_count": 110,
     "metadata": {},
     "output_type": "execute_result"
    }
   ],
   "source": [
    "header_string"
   ]
  },
  {
   "cell_type": "code",
   "execution_count": 79,
   "id": "be9d9365",
   "metadata": {},
   "outputs": [
    {
     "data": {
      "text/plain": [
       "array([[48010226.  ,    35000.  ,    35000.  ,       13.33,     1184.86,     9452.96],\n",
       "       [57693261.  ,    30000.  ,    30000.  ,         nan,      938.57,     4679.7 ],\n",
       "       [59432726.  ,    15000.  ,    15000.  ,         nan,      494.86,     1969.83],\n",
       "       ...,\n",
       "       [50415990.  ,    10000.  ,    10000.  ,         nan,         nan,     2185.64],\n",
       "       [46154151.  ,         nan,    10000.  ,       16.55,      354.3 ,     3199.4 ],\n",
       "       [66055249.  ,    10000.  ,    10000.  ,         nan,      309.97,      301.9 ]])"
      ]
     },
     "execution_count": 79,
     "metadata": {},
     "output_type": "execute_result"
    }
   ],
   "source": [
    "loan_data_numeric"
   ]
  },
  {
   "cell_type": "code",
   "execution_count": 87,
   "id": "2f2a58e4",
   "metadata": {},
   "outputs": [],
   "source": [
    "#creating checkpoints\n",
    "def checkpoint(file_name,checkpoint_header, checkpoint_data):\n",
    "    np.savez(file_name,header=checkpoint_header,data=checkpoint_data)\n",
    "    checkpoint_variable = np.load(file_name + \".npz\")\n",
    "    return(checkpoint_variable)"
   ]
  },
  {
   "cell_type": "code",
   "execution_count": 124,
   "id": "4e3bba17",
   "metadata": {},
   "outputs": [],
   "source": [
    "checkpoint_test = checkpoint(\"checkpoint-test\",header_string,loan_data_strings)"
   ]
  },
  {
   "cell_type": "code",
   "execution_count": 125,
   "id": "40e7763f",
   "metadata": {},
   "outputs": [
    {
     "data": {
      "text/plain": [
       "array([['May-15', 'Current', '36 months', ..., 'Verified',\n",
       "        'https://www.lendingclub.com/browse/loanDetail.action?loan_id=48010226', 'CA'],\n",
       "       ['', 'Current', '36 months', ..., 'Source Verified',\n",
       "        'https://www.lendingclub.com/browse/loanDetail.action?loan_id=57693261', 'NY'],\n",
       "       ['Sep-15', 'Current', '36 months', ..., 'Verified',\n",
       "        'https://www.lendingclub.com/browse/loanDetail.action?loan_id=59432726', 'PA'],\n",
       "       ...,\n",
       "       ['Jun-15', 'Current', '36 months', ..., 'Source Verified',\n",
       "        'https://www.lendingclub.com/browse/loanDetail.action?loan_id=50415990', 'CA'],\n",
       "       ['Apr-15', 'Current', '36 months', ..., 'Source Verified',\n",
       "        'https://www.lendingclub.com/browse/loanDetail.action?loan_id=46154151', 'OH'],\n",
       "       ['Dec-15', 'Current', '36 months', ..., '',\n",
       "        'https://www.lendingclub.com/browse/loanDetail.action?loan_id=66055249', 'IL']],\n",
       "      dtype='<U69')"
      ]
     },
     "execution_count": 125,
     "metadata": {},
     "output_type": "execute_result"
    }
   ],
   "source": [
    "checkpoint_test['data']"
   ]
  },
  {
   "cell_type": "code",
   "execution_count": 95,
   "id": "6777b026",
   "metadata": {},
   "outputs": [
    {
     "data": {
      "text/plain": [
       "False"
      ]
     },
     "execution_count": 95,
     "metadata": {},
     "output_type": "execute_result"
    }
   ],
   "source": [
    "np.array_equal(loan_data_numeric,checkpoint_test['data'])"
   ]
  },
  {
   "cell_type": "code",
   "execution_count": 115,
   "id": "690b1dae",
   "metadata": {},
   "outputs": [
    {
     "data": {
      "text/plain": [
       "(10000, 8)"
      ]
     },
     "execution_count": 115,
     "metadata": {},
     "output_type": "execute_result"
    }
   ],
   "source": [
    "checkpoint_test['data'].shape"
   ]
  },
  {
   "cell_type": "code",
   "execution_count": 119,
   "id": "1e9df554",
   "metadata": {},
   "outputs": [
    {
     "data": {
      "text/plain": [
       "(10000, 8)"
      ]
     },
     "execution_count": 119,
     "metadata": {},
     "output_type": "execute_result"
    }
   ],
   "source": [
    "loan_data_strings.shape"
   ]
  },
  {
   "cell_type": "code",
   "execution_count": 128,
   "id": "63755ad3",
   "metadata": {},
   "outputs": [
    {
     "data": {
      "text/plain": [
       "array(['issue_d', 'loan_status', 'term', 'grade', 'sub_grade', 'verification_status', 'url',\n",
       "       'addr_state'], dtype='<U19')"
      ]
     },
     "execution_count": 128,
     "metadata": {},
     "output_type": "execute_result"
    }
   ],
   "source": [
    "header_string"
   ]
  },
  {
   "cell_type": "code",
   "execution_count": 145,
   "id": "3533b06f",
   "metadata": {},
   "outputs": [
    {
     "data": {
      "text/plain": [
       "array([['May-15', 'Current', '36 months', ..., 'Verified',\n",
       "        'https://www.lendingclub.com/browse/loanDetail.action?loan_id=48010226', 'CA'],\n",
       "       ['', 'Current', '36 months', ..., 'Source Verified',\n",
       "        'https://www.lendingclub.com/browse/loanDetail.action?loan_id=57693261', 'NY'],\n",
       "       ['Sep-15', 'Current', '36 months', ..., 'Verified',\n",
       "        'https://www.lendingclub.com/browse/loanDetail.action?loan_id=59432726', 'PA'],\n",
       "       ...,\n",
       "       ['Jun-15', 'Current', '36 months', ..., 'Source Verified',\n",
       "        'https://www.lendingclub.com/browse/loanDetail.action?loan_id=50415990', 'CA'],\n",
       "       ['Apr-15', 'Current', '36 months', ..., 'Source Verified',\n",
       "        'https://www.lendingclub.com/browse/loanDetail.action?loan_id=46154151', 'OH'],\n",
       "       ['Dec-15', 'Current', '36 months', ..., '',\n",
       "        'https://www.lendingclub.com/browse/loanDetail.action?loan_id=66055249', 'IL']],\n",
       "      dtype='<U69')"
      ]
     },
     "execution_count": 145,
     "metadata": {},
     "output_type": "execute_result"
    }
   ],
   "source": [
    "loan_data_strings"
   ]
  },
  {
   "cell_type": "code",
   "execution_count": 131,
   "id": "7d3fa238",
   "metadata": {},
   "outputs": [],
   "source": [
    "#Replace header value\n",
    "#Simply override the header_string[index of what you want to replace]\n",
    "#in this case, issue_d is being renamed as issue_sate\n",
    "header_string[0] = \"issue_date\""
   ]
  },
  {
   "cell_type": "code",
   "execution_count": 132,
   "id": "6a706ec6",
   "metadata": {},
   "outputs": [
    {
     "data": {
      "text/plain": [
       "array(['issue_date', 'loan_status', 'term', 'grade', 'sub_grade', 'verification_status', 'url',\n",
       "       'addr_state'], dtype='<U19')"
      ]
     },
     "execution_count": 132,
     "metadata": {},
     "output_type": "execute_result"
    }
   ],
   "source": [
    "header_string"
   ]
  },
  {
   "cell_type": "code",
   "execution_count": 146,
   "id": "b33fbd5f",
   "metadata": {},
   "outputs": [],
   "source": [
    "#Clean up : REmove all -15 or Year information from the array loan_data string\n",
    "#As column 0 is issue_date, -15 or year info from here needs to be removed\n",
    "#To do this, np.chararray.strip is used. It returns the array data after the strip is done\n",
    "loan_data_strings[:,0] = np.chararray.strip(loan_data_strings[:,0],\"-15\")\n",
    "#strip -15 from MON-15 for all rows first column\n"
   ]
  },
  {
   "cell_type": "code",
   "execution_count": 147,
   "id": "f52df449",
   "metadata": {},
   "outputs": [
    {
     "data": {
      "text/plain": [
       "array([['May', 'Current', '36 months', ..., 'Verified',\n",
       "        'https://www.lendingclub.com/browse/loanDetail.action?loan_id=48010226', 'CA'],\n",
       "       ['', 'Current', '36 months', ..., 'Source Verified',\n",
       "        'https://www.lendingclub.com/browse/loanDetail.action?loan_id=57693261', 'NY'],\n",
       "       ['Sep', 'Current', '36 months', ..., 'Verified',\n",
       "        'https://www.lendingclub.com/browse/loanDetail.action?loan_id=59432726', 'PA'],\n",
       "       ...,\n",
       "       ['Jun', 'Current', '36 months', ..., 'Source Verified',\n",
       "        'https://www.lendingclub.com/browse/loanDetail.action?loan_id=50415990', 'CA'],\n",
       "       ['Apr', 'Current', '36 months', ..., 'Source Verified',\n",
       "        'https://www.lendingclub.com/browse/loanDetail.action?loan_id=46154151', 'OH'],\n",
       "       ['Dec', 'Current', '36 months', ..., '',\n",
       "        'https://www.lendingclub.com/browse/loanDetail.action?loan_id=66055249', 'IL']],\n",
       "      dtype='<U69')"
      ]
     },
     "execution_count": 147,
     "metadata": {},
     "output_type": "execute_result"
    }
   ],
   "source": [
    "loan_data_strings"
   ]
  },
  {
   "cell_type": "code",
   "execution_count": 150,
   "id": "97b0aeed",
   "metadata": {},
   "outputs": [],
   "source": [
    "#replacing all Months data to numeric\n",
    "month_arr = np.array(['','Jan','Feb','Mar','Apr','May','Jun','Jul','Aug','Sep','Oct','Nov','Dec'])"
   ]
  },
  {
   "cell_type": "code",
   "execution_count": 160,
   "id": "041b85fa",
   "metadata": {},
   "outputs": [],
   "source": [
    "#Change months into numbers\n",
    "#np.where will return the data meeting the condition\n",
    "#first pararm of NPwhere is the condition\n",
    "#second part is what will be returned if condition is met\n",
    "#third part is what will be returned if condition is not met\n",
    "#in this case, the last param indicates that it will return as-is value if condition is not met\n",
    "\n",
    "for i in range(13):\n",
    "    loan_data_strings[:,0] = np.where(loan_data_strings[:,0]==month_arr[i],i,loan_data_strings[:,0])\n",
    "\n"
   ]
  },
  {
   "cell_type": "code",
   "execution_count": 162,
   "id": "e8d4debe",
   "metadata": {},
   "outputs": [
    {
     "data": {
      "text/plain": [
       "array([['5', 'Current', '36 months', ..., 'Verified',\n",
       "        'https://www.lendingclub.com/browse/loanDetail.action?loan_id=48010226', 'CA'],\n",
       "       ['0', 'Current', '36 months', ..., 'Source Verified',\n",
       "        'https://www.lendingclub.com/browse/loanDetail.action?loan_id=57693261', 'NY'],\n",
       "       ['9', 'Current', '36 months', ..., 'Verified',\n",
       "        'https://www.lendingclub.com/browse/loanDetail.action?loan_id=59432726', 'PA'],\n",
       "       ...,\n",
       "       ['6', 'Current', '36 months', ..., 'Source Verified',\n",
       "        'https://www.lendingclub.com/browse/loanDetail.action?loan_id=50415990', 'CA'],\n",
       "       ['4', 'Current', '36 months', ..., 'Source Verified',\n",
       "        'https://www.lendingclub.com/browse/loanDetail.action?loan_id=46154151', 'OH'],\n",
       "       ['12', 'Current', '36 months', ..., '',\n",
       "        'https://www.lendingclub.com/browse/loanDetail.action?loan_id=66055249', 'IL']],\n",
       "      dtype='<U69')"
      ]
     },
     "execution_count": 162,
     "metadata": {},
     "output_type": "execute_result"
    }
   ],
   "source": [
    "loan_data_strings"
   ]
  },
  {
   "cell_type": "code",
   "execution_count": 163,
   "id": "c0ad47de",
   "metadata": {},
   "outputs": [
    {
     "data": {
      "text/plain": [
       "array(['0', '1', '10', '11', '12', '2', '3', '4', '5', '6', '7', '8', '9'], dtype='<U69')"
      ]
     },
     "execution_count": 163,
     "metadata": {},
     "output_type": "execute_result"
    }
   ],
   "source": [
    "np.unique(loan_data_strings[:,0])"
   ]
  },
  {
   "cell_type": "code",
   "execution_count": 165,
   "id": "4ebd1bac",
   "metadata": {},
   "outputs": [
    {
     "data": {
      "text/plain": [
       "array(['', 'Charged Off', 'Current', 'Default', 'Fully Paid', 'In Grace Period', 'Issued',\n",
       "       'Late (16-30 days)', 'Late (31-120 days)'], dtype='<U69')"
      ]
     },
     "execution_count": 165,
     "metadata": {},
     "output_type": "execute_result"
    }
   ],
   "source": [
    "#LOAN STATUS\n",
    "#Change the status to either 0 = BAD, 1=GOOD\n",
    "\n",
    "np.unique(loan_data_strings[:,1])"
   ]
  },
  {
   "cell_type": "code",
   "execution_count": 167,
   "id": "1c26a338",
   "metadata": {},
   "outputs": [
    {
     "data": {
      "text/plain": [
       "9"
      ]
     },
     "execution_count": 167,
     "metadata": {},
     "output_type": "execute_result"
    }
   ],
   "source": [
    "np.unique(loan_data_strings[:,1]).size"
   ]
  },
  {
   "cell_type": "code",
   "execution_count": 168,
   "id": "54a99f03",
   "metadata": {},
   "outputs": [],
   "source": [
    "#Create an array of status that is considered BAD\n",
    "status_bad = np.array(['','Charged Off','Default','Late (31-120 days)'])"
   ]
  },
  {
   "cell_type": "code",
   "execution_count": 169,
   "id": "735aa706",
   "metadata": {},
   "outputs": [
    {
     "data": {
      "text/plain": [
       "array(['', 'Charged Off', 'Default', 'Late (31-120 days)'], dtype='<U18')"
      ]
     },
     "execution_count": 169,
     "metadata": {},
     "output_type": "execute_result"
    }
   ],
   "source": [
    "status_bad"
   ]
  },
  {
   "cell_type": "code",
   "execution_count": 173,
   "id": "9e032777",
   "metadata": {},
   "outputs": [
    {
     "data": {
      "text/plain": [
       "array(['1', '1', '1', ..., '1', '1', '1'], dtype='<U69')"
      ]
     },
     "execution_count": 173,
     "metadata": {},
     "output_type": "execute_result"
    }
   ],
   "source": [
    "loan_data_strings[:,1]"
   ]
  },
  {
   "cell_type": "code",
   "execution_count": 172,
   "id": "7f5d59ae",
   "metadata": {},
   "outputs": [],
   "source": [
    "#Replace all status that are considered BAD as 0, 1 as good\n",
    "#use np.isin(data, status_bad)\n",
    "#first param takes in base data, second param is the data sets to lookup\n",
    "\n",
    "loan_data_strings[:,1] = np.where(np.isin(loan_data_strings[:,1],status_bad),0,1)\n"
   ]
  },
  {
   "cell_type": "code",
   "execution_count": 174,
   "id": "d12f0f68",
   "metadata": {},
   "outputs": [
    {
     "data": {
      "text/plain": [
       "array(['0', '1'], dtype='<U69')"
      ]
     },
     "execution_count": 174,
     "metadata": {},
     "output_type": "execute_result"
    }
   ],
   "source": [
    "np.unique(loan_data_strings[:,1])"
   ]
  },
  {
   "cell_type": "code",
   "execution_count": 175,
   "id": "da206b76",
   "metadata": {},
   "outputs": [
    {
     "data": {
      "text/plain": [
       "array(['', '36 months', '60 months'], dtype='<U69')"
      ]
     },
     "execution_count": 175,
     "metadata": {},
     "output_type": "execute_result"
    }
   ],
   "source": [
    "#TERM\n",
    "np.unique(loan_data_strings[:,2])"
   ]
  },
  {
   "cell_type": "code",
   "execution_count": 177,
   "id": "852a4fff",
   "metadata": {},
   "outputs": [
    {
     "data": {
      "text/plain": [
       "array(['issue_date', 'loan_status', 'term', 'grade', 'sub_grade', 'verification_status', 'url',\n",
       "       'addr_state'], dtype='<U19')"
      ]
     },
     "execution_count": 177,
     "metadata": {},
     "output_type": "execute_result"
    }
   ],
   "source": [
    "header_string"
   ]
  },
  {
   "cell_type": "code",
   "execution_count": 180,
   "id": "8bb30dcc",
   "metadata": {},
   "outputs": [],
   "source": [
    "header_string[2] = 'Term Months'"
   ]
  },
  {
   "cell_type": "code",
   "execution_count": 181,
   "id": "a53c6085",
   "metadata": {},
   "outputs": [
    {
     "data": {
      "text/plain": [
       "array(['issue_date', 'loan_status', 'Term Months', 'grade', 'sub_grade', 'verification_status',\n",
       "       'url', 'addr_state'], dtype='<U19')"
      ]
     },
     "execution_count": 181,
     "metadata": {},
     "output_type": "execute_result"
    }
   ],
   "source": [
    "header_string"
   ]
  },
  {
   "cell_type": "code",
   "execution_count": 182,
   "id": "39150f26",
   "metadata": {},
   "outputs": [
    {
     "data": {
      "text/plain": [
       "array(['', '36 months', '60 months'], dtype='<U69')"
      ]
     },
     "execution_count": 182,
     "metadata": {},
     "output_type": "execute_result"
    }
   ],
   "source": [
    "np.unique(loan_data_strings[:,2])"
   ]
  },
  {
   "cell_type": "code",
   "execution_count": 183,
   "id": "a8d5087d",
   "metadata": {},
   "outputs": [],
   "source": [
    "#remove \"Months\"\n",
    "loan_data_strings[:,2] = np.chararray.strip(loan_data_strings[:,2],\" months\")"
   ]
  },
  {
   "cell_type": "code",
   "execution_count": 186,
   "id": "d226fbb5",
   "metadata": {},
   "outputs": [
    {
     "data": {
      "text/plain": [
       "array(['', '36', '60'], dtype='<U69')"
      ]
     },
     "execution_count": 186,
     "metadata": {},
     "output_type": "execute_result"
    }
   ],
   "source": [
    "np.unique(loan_data_strings[:,2])"
   ]
  },
  {
   "cell_type": "code",
   "execution_count": 187,
   "id": "c3b37651",
   "metadata": {},
   "outputs": [],
   "source": [
    "loan_data_strings[:,2] = np.where(loan_data_strings[:,2]=='','60',loan_data_strings[:,2])"
   ]
  },
  {
   "cell_type": "code",
   "execution_count": 189,
   "id": "8d1908c4",
   "metadata": {},
   "outputs": [
    {
     "data": {
      "text/plain": [
       "array(['36', '60'], dtype='<U69')"
      ]
     },
     "execution_count": 189,
     "metadata": {},
     "output_type": "execute_result"
    }
   ],
   "source": [
    "np.unique(loan_data_strings[:,2])"
   ]
  },
  {
   "cell_type": "code",
   "execution_count": 198,
   "id": "2344508c",
   "metadata": {},
   "outputs": [],
   "source": [
    "#Because the first element in the unique value of grade is '', the np.unique result is indexed with [1:] \n",
    "#this is to indicate that data we'll use data from row 1 on woards\n",
    "for i in np.unique(loan_data_strings[:,3])[1:]:\n",
    "    loan_data_strings[:,4]  = np.where((loan_data_strings[:,4]=='') & (loan_data_strings[:,3] == i),i+'5',loan_data_strings[:,4])"
   ]
  },
  {
   "cell_type": "code",
   "execution_count": 205,
   "id": "349f5362",
   "metadata": {},
   "outputs": [
    {
     "data": {
      "text/plain": [
       "(array(['', 'A1', 'A2', 'A3', 'A4', 'A5', 'B1', 'B2', 'B3', 'B4', 'B5', 'C1', 'C2', 'C3', 'C4',\n",
       "        'C5', 'D1', 'D2', 'D3', 'D4', 'D5', 'E1', 'E2', 'E3', 'E4', 'E5', 'F1', 'F2', 'F3', 'F4',\n",
       "        'F5', 'G1', 'G2', 'G3', 'G4', 'G5'], dtype='<U69'),\n",
       " array([  9, 285, 278, 239, 323, 592, 509, 517, 530, 553, 633, 629, 567, 586, 564, 577, 391, 267,\n",
       "        250, 255, 288, 235, 162, 171, 139, 160,  94,  52,  34,  43,  24,  19,  10,   3,   7,   5],\n",
       "       dtype=int64))"
      ]
     },
     "execution_count": 205,
     "metadata": {},
     "output_type": "execute_result"
    }
   ],
   "source": [
    "np.unique(loan_data_strings[:,4],return_counts=True)\n",
    "#after this , we can see that there are still null sub grades\n",
    "#This means that there are values where subgrade and grade is not there\n"
   ]
  },
  {
   "cell_type": "code",
   "execution_count": 206,
   "id": "61384d23",
   "metadata": {},
   "outputs": [],
   "source": [
    "#Assign H1, on those that are blank subgrades\n",
    "for i in np.unique(loan_data_strings[:,3])[1:]:\n",
    "    loan_data_strings[:,4]  = np.where(loan_data_strings[:,4]=='','H1',loan_data_strings[:,4])"
   ]
  },
  {
   "cell_type": "code",
   "execution_count": 207,
   "id": "95b2e110",
   "metadata": {},
   "outputs": [
    {
     "data": {
      "text/plain": [
       "(array(['A1', 'A2', 'A3', 'A4', 'A5', 'B1', 'B2', 'B3', 'B4', 'B5', 'C1', 'C2', 'C3', 'C4', 'C5',\n",
       "        'D1', 'D2', 'D3', 'D4', 'D5', 'E1', 'E2', 'E3', 'E4', 'E5', 'F1', 'F2', 'F3', 'F4', 'F5',\n",
       "        'G1', 'G2', 'G3', 'G4', 'G5', 'H1'], dtype='<U69'),\n",
       " array([285, 278, 239, 323, 592, 509, 517, 530, 553, 633, 629, 567, 586, 564, 577, 391, 267, 250,\n",
       "        255, 288, 235, 162, 171, 139, 160,  94,  52,  34,  43,  24,  19,  10,   3,   7,   5,   9],\n",
       "       dtype=int64))"
      ]
     },
     "execution_count": 207,
     "metadata": {},
     "output_type": "execute_result"
    }
   ],
   "source": [
    "np.unique(loan_data_strings[:,4],return_counts=True)"
   ]
  },
  {
   "cell_type": "code",
   "execution_count": 210,
   "id": "d958b549",
   "metadata": {},
   "outputs": [
    {
     "data": {
      "text/plain": [
       "(array(['A1', 'A2', 'A3', 'A4', 'A5', 'B1', 'B2', 'B3', 'B4', 'B5', 'C1', 'C2', 'C3', 'C4', 'C5',\n",
       "        'D1', 'D2', 'D3', 'D4', 'D5', 'E1', 'E2', 'E3', 'E4', 'E5', 'F1', 'F2', 'F3', 'F4', 'F5',\n",
       "        'G1', 'G2', 'G3', 'G4', 'G5', 'H1'], dtype='<U69'),\n",
       " array([285, 278, 239, 323, 592, 509, 517, 530, 553, 633, 629, 567, 586, 564, 577, 391, 267, 250,\n",
       "        255, 288, 235, 162, 171, 139, 160,  94,  52,  34,  43,  24,  19,  10,   3,   7,   5,   9],\n",
       "       dtype=int64))"
      ]
     },
     "execution_count": 210,
     "metadata": {},
     "output_type": "execute_result"
    }
   ],
   "source": [
    "np.unique(loan_data_strings[:,3],return_counts=True)"
   ]
  },
  {
   "cell_type": "code",
   "execution_count": 209,
   "id": "e1fd40a2",
   "metadata": {},
   "outputs": [],
   "source": [
    "#As we already hvae subgrade, we no longer need GRADE\n",
    "#Delete the column for GRADE (column 3)\n",
    "loan_data_strings = np.delete(loan_data_strings,3,axis=1)"
   ]
  },
  {
   "cell_type": "code",
   "execution_count": 212,
   "id": "5f807fff",
   "metadata": {},
   "outputs": [
    {
     "data": {
      "text/plain": [
       "array(['A1', 'A2', 'A3', 'A4', 'A5', 'B1', 'B2', 'B3', 'B4', 'B5', 'C1', 'C2', 'C3', 'C4', 'C5',\n",
       "       'D1', 'D2', 'D3', 'D4', 'D5', 'E1', 'E2', 'E3', 'E4', 'E5', 'F1', 'F2', 'F3', 'F4', 'F5',\n",
       "       'G1', 'G2', 'G3', 'G4', 'G5', 'H1'], dtype='<U69')"
      ]
     },
     "execution_count": 212,
     "metadata": {},
     "output_type": "execute_result"
    }
   ],
   "source": [
    "np.unique(loan_data_strings[:,3])"
   ]
  },
  {
   "cell_type": "code",
   "execution_count": 215,
   "id": "7dd0ff0d",
   "metadata": {},
   "outputs": [],
   "source": [
    "#As we have already removed, column 3 from data, we need to do the same for the header array\n",
    "header_string = np.delete(header_string,3)"
   ]
  },
  {
   "cell_type": "code",
   "execution_count": 216,
   "id": "8aabe69c",
   "metadata": {},
   "outputs": [
    {
     "data": {
      "text/plain": [
       "array(['issue_date', 'loan_status', 'Term Months', 'sub_grade', 'verification_status', 'url',\n",
       "       'addr_state'], dtype='<U19')"
      ]
     },
     "execution_count": 216,
     "metadata": {},
     "output_type": "execute_result"
    }
   ],
   "source": [
    "header_string"
   ]
  },
  {
   "cell_type": "code",
   "execution_count": 217,
   "id": "aaac2112",
   "metadata": {},
   "outputs": [
    {
     "data": {
      "text/plain": [
       "array(['A1', 'A2', 'A3', 'A4', 'A5', 'B1', 'B2', 'B3', 'B4', 'B5', 'C1', 'C2', 'C3', 'C4', 'C5',\n",
       "       'D1', 'D2', 'D3', 'D4', 'D5', 'E1', 'E2', 'E3', 'E4', 'E5', 'F1', 'F2', 'F3', 'F4', 'F5',\n",
       "       'G1', 'G2', 'G3', 'G4', 'G5', 'H1'], dtype='<U69')"
      ]
     },
     "execution_count": 217,
     "metadata": {},
     "output_type": "execute_result"
    }
   ],
   "source": [
    "np.unique(loan_data_strings[:,3])"
   ]
  },
  {
   "cell_type": "code",
   "execution_count": 219,
   "id": "2fdfde0b",
   "metadata": {},
   "outputs": [],
   "source": [
    "#Create a dictionary of Grades\n",
    "key = list(np.unique(loan_data_strings[:,3]))\n",
    "values = list(range(1,np.unique(loan_data_strings[:,3]).shape[0]+1))\n",
    "dict_sub_grade = dict(zip(key,values))"
   ]
  },
  {
   "cell_type": "code",
   "execution_count": 220,
   "id": "6790a9da",
   "metadata": {},
   "outputs": [
    {
     "data": {
      "text/plain": [
       "{'A1': 1,\n",
       " 'A2': 2,\n",
       " 'A3': 3,\n",
       " 'A4': 4,\n",
       " 'A5': 5,\n",
       " 'B1': 6,\n",
       " 'B2': 7,\n",
       " 'B3': 8,\n",
       " 'B4': 9,\n",
       " 'B5': 10,\n",
       " 'C1': 11,\n",
       " 'C2': 12,\n",
       " 'C3': 13,\n",
       " 'C4': 14,\n",
       " 'C5': 15,\n",
       " 'D1': 16,\n",
       " 'D2': 17,\n",
       " 'D3': 18,\n",
       " 'D4': 19,\n",
       " 'D5': 20,\n",
       " 'E1': 21,\n",
       " 'E2': 22,\n",
       " 'E3': 23,\n",
       " 'E4': 24,\n",
       " 'E5': 25,\n",
       " 'F1': 26,\n",
       " 'F2': 27,\n",
       " 'F3': 28,\n",
       " 'F4': 29,\n",
       " 'F5': 30,\n",
       " 'G1': 31,\n",
       " 'G2': 32,\n",
       " 'G3': 33,\n",
       " 'G4': 34,\n",
       " 'G5': 35,\n",
       " 'H1': 36}"
      ]
     },
     "execution_count": 220,
     "metadata": {},
     "output_type": "execute_result"
    }
   ],
   "source": [
    "dict_sub_grade"
   ]
  },
  {
   "cell_type": "code",
   "execution_count": 221,
   "id": "15bc9660",
   "metadata": {},
   "outputs": [
    {
     "data": {
      "text/plain": [
       "array(['A1', 'A2', 'A3', 'A4', 'A5', 'B1', 'B2', 'B3', 'B4', 'B5', 'C1', 'C2', 'C3', 'C4', 'C5',\n",
       "       'D1', 'D2', 'D3', 'D4', 'D5', 'E1', 'E2', 'E3', 'E4', 'E5', 'F1', 'F2', 'F3', 'F4', 'F5',\n",
       "       'G1', 'G2', 'G3', 'G4', 'G5', 'H1'], dtype='<U69')"
      ]
     },
     "execution_count": 221,
     "metadata": {},
     "output_type": "execute_result"
    }
   ],
   "source": [
    "np.unique(loan_data_strings[:,3])"
   ]
  },
  {
   "cell_type": "code",
   "execution_count": 223,
   "id": "fc01e5f2",
   "metadata": {},
   "outputs": [],
   "source": [
    "#Replace sub grades with matching dictionary value\n",
    "#this will convert our grades A1,A2, etc to Numerical Rating\n",
    "for i in np.unique(loan_data_strings[:,3]):\n",
    "    loan_data_strings[:,3] = np.where(loan_data_strings[:,3]==i,\n",
    "                                     dict_sub_grade[i],loan_data_strings[:,3])"
   ]
  },
  {
   "cell_type": "code",
   "execution_count": 226,
   "id": "0026b97d",
   "metadata": {},
   "outputs": [
    {
     "data": {
      "text/plain": [
       "(array(['1', '10', '11', '12', '13', '14', '15', '16', '17', '18', '19', '2', '20', '21', '22',\n",
       "        '23', '24', '25', '26', '27', '28', '29', '3', '30', '31', '32', '33', '34', '35', '36',\n",
       "        '4', '5', '6', '7', '8', '9'], dtype='<U69'),\n",
       " array([285, 633, 629, 567, 586, 564, 577, 391, 267, 250, 255, 278, 288, 235, 162, 171, 139, 160,\n",
       "         94,  52,  34,  43, 239,  24,  19,  10,   3,   7,   5,   9, 323, 592, 509, 517, 530, 553],\n",
       "       dtype=int64))"
      ]
     },
     "execution_count": 226,
     "metadata": {},
     "output_type": "execute_result"
    }
   ],
   "source": [
    "np.unique(loan_data_strings[:,3],return_counts=True)"
   ]
  },
  {
   "cell_type": "code",
   "execution_count": 228,
   "id": "889f5baa",
   "metadata": {},
   "outputs": [
    {
     "data": {
      "text/plain": [
       "array(['issue_date', 'loan_status', 'Term Months', 'sub_grade', 'verification_status', 'url',\n",
       "       'addr_state'], dtype='<U19')"
      ]
     },
     "execution_count": 228,
     "metadata": {},
     "output_type": "execute_result"
    }
   ],
   "source": [
    "#Verification Status column\n",
    "header_string"
   ]
  },
  {
   "cell_type": "code",
   "execution_count": 229,
   "id": "0ddbba5d",
   "metadata": {},
   "outputs": [
    {
     "data": {
      "text/plain": [
       "array(['', 'Not Verified', 'Source Verified', 'Verified'], dtype='<U69')"
      ]
     },
     "execution_count": 229,
     "metadata": {},
     "output_type": "execute_result"
    }
   ],
   "source": [
    "np.unique(loan_data_strings[:,4])"
   ]
  },
  {
   "cell_type": "code",
   "execution_count": 230,
   "id": "5fcc385c",
   "metadata": {},
   "outputs": [],
   "source": [
    "#Change all verification status where value is '' or Not verfied to 0\n",
    "#Change all that are verified to 1\n",
    "loan_data_strings[:,4] = np.where((loan_data_strings[:,4] == '') | (loan_data_strings[:,4] =='Not Verified'),0,1)"
   ]
  },
  {
   "cell_type": "code",
   "execution_count": 231,
   "id": "fbf19166",
   "metadata": {},
   "outputs": [
    {
     "data": {
      "text/plain": [
       "array(['0', '1'], dtype='<U69')"
      ]
     },
     "execution_count": 231,
     "metadata": {},
     "output_type": "execute_result"
    }
   ],
   "source": [
    "np.unique(loan_data_strings[:,4])\n"
   ]
  },
  {
   "cell_type": "code",
   "execution_count": 234,
   "id": "5d3be39e",
   "metadata": {},
   "outputs": [
    {
     "data": {
      "text/plain": [
       "array(['https://www.lendingclub.com/browse/loanDetail.action?loan_id=48010226',\n",
       "       'https://www.lendingclub.com/browse/loanDetail.action?loan_id=57693261',\n",
       "       'https://www.lendingclub.com/browse/loanDetail.action?loan_id=59432726', ...,\n",
       "       'https://www.lendingclub.com/browse/loanDetail.action?loan_id=50415990',\n",
       "       'https://www.lendingclub.com/browse/loanDetail.action?loan_id=46154151',\n",
       "       'https://www.lendingclub.com/browse/loanDetail.action?loan_id=66055249'], dtype='<U69')"
      ]
     },
     "execution_count": 234,
     "metadata": {},
     "output_type": "execute_result"
    }
   ],
   "source": [
    "loan_data_strings[:,5]"
   ]
  },
  {
   "cell_type": "code",
   "execution_count": 235,
   "id": "34c87a4f",
   "metadata": {},
   "outputs": [
    {
     "data": {
      "text/plain": [
       "array(['id', 'issue_d', 'loan_amnt', 'loan_status', 'funded_amnt', 'term', 'int_rate',\n",
       "       'installment', 'grade', 'sub_grade', 'verification_status', 'url', 'addr_state',\n",
       "       'total_pymnt'], dtype='<U19')"
      ]
     },
     "execution_count": 235,
     "metadata": {},
     "output_type": "execute_result"
    }
   ],
   "source": [
    "header_full"
   ]
  },
  {
   "cell_type": "code",
   "execution_count": 239,
   "id": "daef5c7c",
   "metadata": {},
   "outputs": [
    {
     "data": {
      "text/plain": [
       "array([48010226, 57693261, 59432726, ..., 50415990, 46154151, 66055249])"
      ]
     },
     "execution_count": 239,
     "metadata": {},
     "output_type": "execute_result"
    }
   ],
   "source": [
    "loan_data_numeric[:,0].astype(dtype=np.int32)"
   ]
  },
  {
   "cell_type": "code",
   "execution_count": 245,
   "id": "c3cb67f2",
   "metadata": {},
   "outputs": [],
   "source": [
    "loan_data_strings[:,5] = np.chararray.strip(loan_data_strings[:,5],\"https://www.lendingclub.com/browse/loanDetail.action?loan_id=\")"
   ]
  },
  {
   "cell_type": "code",
   "execution_count": 249,
   "id": "46f1e72c",
   "metadata": {},
   "outputs": [
    {
     "data": {
      "text/plain": [
       "True"
      ]
     },
     "execution_count": 249,
     "metadata": {},
     "output_type": "execute_result"
    }
   ],
   "source": [
    "np.array_equal(loan_data_strings[:,5].astype(dtype=np.int32),loan_data_numeric[:,0].astype(dtype=np.int32))"
   ]
  },
  {
   "cell_type": "code",
   "execution_count": 250,
   "id": "a6057387",
   "metadata": {},
   "outputs": [],
   "source": [
    "loan_data_strings = np.delete(loan_data_strings,5,axis=1)\n",
    "header_string = np.delete(header_string,5)"
   ]
  },
  {
   "cell_type": "code",
   "execution_count": 251,
   "id": "f303eaa8",
   "metadata": {},
   "outputs": [
    {
     "data": {
      "text/plain": [
       "array(['issue_date', 'loan_status', 'Term Months', 'sub_grade', 'verification_status',\n",
       "       'addr_state'], dtype='<U19')"
      ]
     },
     "execution_count": 251,
     "metadata": {},
     "output_type": "execute_result"
    }
   ],
   "source": [
    "header_string"
   ]
  },
  {
   "cell_type": "code",
   "execution_count": 254,
   "id": "7792e5ac",
   "metadata": {},
   "outputs": [],
   "source": [
    "header_numeric = np.genfromtxt(\"D:\\JakeProjects\\DataScience\\datascience\\loan-data.csv\",delimiter = \";\",autostrip=True,\n",
    "                                  skip_footer = data.shape[0],\n",
    "                                 usecols=columns_numeric,\n",
    "                                 encoding=\"utf-8\",dtype=str)"
   ]
  },
  {
   "cell_type": "code",
   "execution_count": 255,
   "id": "ebfc68fe",
   "metadata": {},
   "outputs": [
    {
     "data": {
      "text/plain": [
       "array(['id', 'loan_amnt', 'funded_amnt', 'int_rate', 'installment', 'total_pymnt'], dtype='<U11')"
      ]
     },
     "execution_count": 255,
     "metadata": {},
     "output_type": "execute_result"
    }
   ],
   "source": [
    "header_numeric"
   ]
  },
  {
   "cell_type": "code",
   "execution_count": 257,
   "id": "21e12fec",
   "metadata": {},
   "outputs": [],
   "source": [
    "np.unique(loan_data_strings[:,5])\n",
    "header_string[5] = \"state_address\""
   ]
  },
  {
   "cell_type": "code",
   "execution_count": 259,
   "id": "b6c1ec19",
   "metadata": {},
   "outputs": [],
   "source": [
    "#Assign state name and state count individual as returned by NP.UNIQUE\n",
    "state_names,states_count = np.unique(loan_data_strings[:,5],return_counts=True)"
   ]
  },
  {
   "cell_type": "code",
   "execution_count": 260,
   "id": "4c492417",
   "metadata": {},
   "outputs": [],
   "source": [
    "#Sort states_count descendingly to sort the array of numbers that is the states_count\n",
    "#assign the sorted states_count data to state_count_sorted\n",
    "\n",
    "state_count_sorted = np.argsort(-states_count)"
   ]
  },
  {
   "cell_type": "code",
   "execution_count": 266,
   "id": "f85b7eed",
   "metadata": {},
   "outputs": [
    {
     "data": {
      "text/plain": [
       "(array(['CA', 'NY', 'TX', 'FL', '', 'IL', 'NJ', 'GA', 'PA', 'OH', 'MI', 'NC', 'VA', 'MD', 'AZ',\n",
       "        'WA', 'MA', 'CO', 'MO', 'MN', 'IN', 'WI', 'CT', 'TN', 'NV', 'AL', 'LA', 'OR', 'SC', 'KY',\n",
       "        'KS', 'OK', 'UT', 'AR', 'MS', 'NH', 'NM', 'WV', 'HI', 'RI', 'MT', 'DE', 'DC', 'WY', 'AK',\n",
       "        'NE', 'SD', 'VT', 'ND', 'ME'], dtype='<U69'),\n",
       " array([1336,  777,  758,  690,  500,  389,  341,  321,  320,  312,  267,  261,  242,  222,  220,\n",
       "         216,  210,  201,  160,  156,  152,  148,  143,  143,  130,  119,  116,  108,  107,   84,\n",
       "          84,   83,   74,   74,   61,   58,   57,   49,   44,   40,   28,   27,   27,   27,   26,\n",
       "          25,   24,   17,   16,   10], dtype=int64))"
      ]
     },
     "execution_count": 266,
     "metadata": {},
     "output_type": "execute_result"
    }
   ],
   "source": [
    "#print state_names in order of state_count_sorted\n",
    "#this will reflect the state with most number\n",
    "state_names[state_count_sorted],states_count[state_count_sorted]"
   ]
  },
  {
   "cell_type": "code",
   "execution_count": 272,
   "id": "f8ceea4e",
   "metadata": {},
   "outputs": [
    {
     "data": {
      "text/plain": [
       "array(['0', 'AK', 'AL', 'AR', 'AZ', 'CA', 'CO', 'CT', 'DC', 'DE', 'FL', 'GA', 'HI', 'IL', 'IN',\n",
       "       'KS', 'KY', 'LA', 'MA', 'MD', 'ME', 'MI', 'MN', 'MO', 'MS', 'MT', 'NC', 'ND', 'NE', 'NH',\n",
       "       'NJ', 'NM', 'NV', 'NY', 'OH', 'OK', 'OR', 'PA', 'RI', 'SC', 'SD', 'TN', 'TX', 'UT', 'VA',\n",
       "       'VT', 'WA', 'WI', 'WV', 'WY'], dtype='<U69')"
      ]
     },
     "execution_count": 272,
     "metadata": {},
     "output_type": "execute_result"
    }
   ],
   "source": [
    "np.unique(loan_data_strings[:,5])"
   ]
  },
  {
   "cell_type": "code",
   "execution_count": 271,
   "id": "b30762fd",
   "metadata": {},
   "outputs": [],
   "source": [
    "#Assign 0 to those blank state address\n",
    "loan_data_strings[:,5] = np.where(loan_data_strings[:,5] =='',0,loan_data_strings[:,5])"
   ]
  },
  {
   "cell_type": "code",
   "execution_count": 273,
   "id": "fd637258",
   "metadata": {},
   "outputs": [],
   "source": [
    "#segregate by geo location\n",
    "states_west = np.array(['WA','OR','CA','NV','ID','MT','WY','UT','CO','AZ','NM','HI','AK'])\n",
    "states_south = np.array(['TX','OK','AR','LA','MS','AL','TN','KY','FL','GA','SC','NC','VA','WV','MD','DE','DC'])\n",
    "states_midwest = np.array(['ND','SD','NE','KS','MN','IA','MO','WI','IL','IN','MI','OH'])\n",
    "states_east = np.array(['PA','NY','NJ','CT','MA','VT','NH','ME','RI'])\n"
   ]
  },
  {
   "cell_type": "code",
   "execution_count": null,
   "id": "6f7b8e19",
   "metadata": {},
   "outputs": [],
   "source": []
  }
 ],
 "metadata": {
  "kernelspec": {
   "display_name": "Python 3 (ipykernel)",
   "language": "python",
   "name": "python3"
  },
  "language_info": {
   "codemirror_mode": {
    "name": "ipython",
    "version": 3
   },
   "file_extension": ".py",
   "mimetype": "text/x-python",
   "name": "python",
   "nbconvert_exporter": "python",
   "pygments_lexer": "ipython3",
   "version": "3.11.3"
  }
 },
 "nbformat": 4,
 "nbformat_minor": 5
}
