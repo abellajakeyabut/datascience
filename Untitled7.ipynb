{
 "cells": [
  {
   "cell_type": "code",
   "execution_count": 1,
   "id": "9299e6d5",
   "metadata": {},
   "outputs": [],
   "source": [
    "import numpy as np"
   ]
  },
  {
   "cell_type": "code",
   "execution_count": 2,
   "id": "32121381",
   "metadata": {},
   "outputs": [],
   "source": [
    "lending_co_data_numeric = np.loadtxt(\"D:\\JakeProjects\\DataScience\\datascience\\Lending-company-Numeric.csv\",delimiter=\",\")"
   ]
  },
  {
   "cell_type": "code",
   "execution_count": 3,
   "id": "93ab5bed",
   "metadata": {},
   "outputs": [
    {
     "data": {
      "text/plain": [
       "array([[ 2000.,    40.,   365.,  3121.,  4241., 13621.],\n",
       "       [ 2000.,    40.,   365.,  3061.,  4171., 15041.],\n",
       "       [ 1000.,    40.,   365.,  2160.,  3280., 15340.],\n",
       "       ...,\n",
       "       [ 2000.,    40.,   365.,  4201.,  5001., 16600.],\n",
       "       [ 1000.,    40.,   365.,  2080.,  3320., 15600.],\n",
       "       [ 2000.,    40.,   365.,  4601.,  4601., 16600.]])"
      ]
     },
     "execution_count": 3,
     "metadata": {},
     "output_type": "execute_result"
    }
   ],
   "source": [
    "lending_co_data_numeric"
   ]
  },
  {
   "cell_type": "code",
   "execution_count": 8,
   "id": "546f39a4",
   "metadata": {},
   "outputs": [],
   "source": [
    "np.random.shuffle(lending_co_data_numeric)"
   ]
  },
  {
   "cell_type": "code",
   "execution_count": 9,
   "id": "d7be2ca3",
   "metadata": {},
   "outputs": [
    {
     "data": {
      "text/plain": [
       "array([[ 2000.,    50.,   365.,  2651.,  3151.,  6801.],\n",
       "       [ 2000.,    40.,   365.,  3080.,  4280., 14400.],\n",
       "       [ 2000.,    40.,   365.,  3081.,  4601., 15801.],\n",
       "       ...,\n",
       "       [ 2000.,    40.,   365.,  4501.,  7501., 16600.],\n",
       "       [ 2000.,    50.,   365.,  3750.,  5250., 20250.],\n",
       "       [ 4000.,    50.,   365.,  6450.,  7450., 22250.]])"
      ]
     },
     "execution_count": 9,
     "metadata": {},
     "output_type": "execute_result"
    }
   ],
   "source": [
    "lending_co_data_numeric"
   ]
  },
  {
   "cell_type": "code",
   "execution_count": 10,
   "id": "b3ffdb72",
   "metadata": {},
   "outputs": [
    {
     "data": {
      "text/plain": [
       "array([[ 2000.,    40.,   365.,  3121.,  4241., 13621.],\n",
       "       [ 2000.,    40.,   365.,  3061.,  4171., 15041.],\n",
       "       [ 1000.,    40.,   365.,  2160.,  3280., 15340.],\n",
       "       ...,\n",
       "       [ 2000.,    40.,   365.,  4201.,  5001., 16600.],\n",
       "       [ 1000.,    40.,   365.,  2080.,  3320., 15600.],\n",
       "       [ 2000.,    40.,   365.,  4601.,  4601., 16600.]])"
      ]
     },
     "execution_count": 10,
     "metadata": {},
     "output_type": "execute_result"
    }
   ],
   "source": [
    "lending_co_data_numeric = np.loadtxt(\"D:\\JakeProjects\\DataScience\\datascience\\Lending-company-Numeric.csv\",delimiter=\",\")\n",
    "lending_co_data_numeric"
   ]
  },
  {
   "cell_type": "code",
   "execution_count": 11,
   "id": "a00b564d",
   "metadata": {},
   "outputs": [],
   "source": [
    "from numpy.random import Generator as gen"
   ]
  },
  {
   "cell_type": "code",
   "execution_count": 12,
   "id": "d42f800e",
   "metadata": {},
   "outputs": [],
   "source": [
    "from numpy.random import PCG64 as pcg"
   ]
  },
  {
   "cell_type": "code",
   "execution_count": 20,
   "id": "9b4d54c7",
   "metadata": {},
   "outputs": [],
   "source": [
    "array_RG = gen(pcg(seed = 365))"
   ]
  },
  {
   "cell_type": "code",
   "execution_count": 21,
   "id": "0ac008a0",
   "metadata": {},
   "outputs": [],
   "source": [
    "array_RG.shuffle(lending_co_data_numeric)"
   ]
  },
  {
   "cell_type": "code",
   "execution_count": 29,
   "id": "51e3cbb3",
   "metadata": {},
   "outputs": [
    {
     "ename": "AttributeError",
     "evalue": "module 'numpy' has no attribute 'string'",
     "output_type": "error",
     "traceback": [
      "\u001b[1;31m---------------------------------------------------------------------------\u001b[0m",
      "\u001b[1;31mAttributeError\u001b[0m                            Traceback (most recent call last)",
      "Cell \u001b[1;32mIn[29], line 1\u001b[0m\n\u001b[1;32m----> 1\u001b[0m lending_co_data_numeric\u001b[38;5;241m.\u001b[39mastype(dtype \u001b[38;5;241m=\u001b[39m np\u001b[38;5;241m.\u001b[39mint32)\u001b[38;5;241m.\u001b[39mastype(dtype\u001b[38;5;241m=\u001b[39mnp\u001b[38;5;241m.\u001b[39mstring)\n",
      "File \u001b[1;32m~\\anaconda3\\Lib\\site-packages\\numpy\\__init__.py:322\u001b[0m, in \u001b[0;36m__getattr__\u001b[1;34m(attr)\u001b[0m\n\u001b[0;32m    319\u001b[0m     \u001b[38;5;124m\"\u001b[39m\u001b[38;5;124mRemoved in NumPy 1.25.0\u001b[39m\u001b[38;5;124m\"\u001b[39m\n\u001b[0;32m    320\u001b[0m     \u001b[38;5;28;01mraise\u001b[39;00m \u001b[38;5;167;01mRuntimeError\u001b[39;00m(\u001b[38;5;124m\"\u001b[39m\u001b[38;5;124mTester was removed in NumPy 1.25.\u001b[39m\u001b[38;5;124m\"\u001b[39m)\n\u001b[1;32m--> 322\u001b[0m \u001b[38;5;28;01mraise\u001b[39;00m \u001b[38;5;167;01mAttributeError\u001b[39;00m(\u001b[38;5;124m\"\u001b[39m\u001b[38;5;124mmodule \u001b[39m\u001b[38;5;132;01m{!r}\u001b[39;00m\u001b[38;5;124m has no attribute \u001b[39m\u001b[38;5;124m\"\u001b[39m\n\u001b[0;32m    323\u001b[0m                      \u001b[38;5;124m\"\u001b[39m\u001b[38;5;132;01m{!r}\u001b[39;00m\u001b[38;5;124m\"\u001b[39m\u001b[38;5;241m.\u001b[39mformat(\u001b[38;5;18m__name__\u001b[39m, attr))\n",
      "\u001b[1;31mAttributeError\u001b[0m: module 'numpy' has no attribute 'string'"
     ]
    }
   ],
   "source": [
    "lending_co_data_numeric.astype(dtype = np.int32).astype(dtype=np.string)"
   ]
  },
  {
   "cell_type": "code",
   "execution_count": 30,
   "id": "6692022c",
   "metadata": {},
   "outputs": [
    {
     "data": {
      "text/plain": [
       "array([[ 2000.,    40.,   365.,  3121.,  4241., 13621.],\n",
       "       [ 2000.,    40.,   365.,  3061.,  4171., 15041.],\n",
       "       [ 1000.,    40.,   365.,  2160.,  3280., 15340.],\n",
       "       ...,\n",
       "       [ 2000.,    40.,   365.,  4201.,  5001., 16600.],\n",
       "       [ 1000.,    40.,   365.,  2080.,  3320., 15600.],\n",
       "       [ 2000.,    40.,   365.,  4601.,  4601., 16600.]])"
      ]
     },
     "execution_count": 30,
     "metadata": {},
     "output_type": "execute_result"
    }
   ],
   "source": [
    "lending_co_data_numeric = np.loadtxt(\"D:\\JakeProjects\\DataScience\\datascience\\Lending-Company-Total-Price.csv\",delimiter=\",\"\n",
    "dtype = np.str,\n",
    "        skip_header=1)\n",
    "lending_co_data_numeric"
   ]
  },
  {
   "cell_type": "code",
   "execution_count": null,
   "id": "9ea4d170",
   "metadata": {},
   "outputs": [],
   "source": []
  }
 ],
 "metadata": {
  "kernelspec": {
   "display_name": "Python 3 (ipykernel)",
   "language": "python",
   "name": "python3"
  },
  "language_info": {
   "codemirror_mode": {
    "name": "ipython",
    "version": 3
   },
   "file_extension": ".py",
   "mimetype": "text/x-python",
   "name": "python",
   "nbconvert_exporter": "python",
   "pygments_lexer": "ipython3",
   "version": "3.11.3"
  }
 },
 "nbformat": 4,
 "nbformat_minor": 5
}
