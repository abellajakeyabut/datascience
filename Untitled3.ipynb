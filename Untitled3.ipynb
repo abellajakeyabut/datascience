{
 "cells": [
  {
   "cell_type": "code",
   "execution_count": 2,
   "id": "1db7a235",
   "metadata": {},
   "outputs": [],
   "source": [
    "import numpy as np\n",
    "\n"
   ]
  },
  {
   "cell_type": "code",
   "execution_count": 8,
   "id": "477a89a9",
   "metadata": {},
   "outputs": [],
   "source": [
    "array_empty = np.empty(shape=(2,5))"
   ]
  },
  {
   "cell_type": "code",
   "execution_count": 14,
   "id": "6185f0d3",
   "metadata": {},
   "outputs": [],
   "source": [
    "array_0s = np.zeros(shape=(2,5),dtype=np.int8)"
   ]
  },
  {
   "cell_type": "code",
   "execution_count": 15,
   "id": "3ffc0da3",
   "metadata": {},
   "outputs": [
    {
     "data": {
      "text/plain": [
       "array([[0, 0, 0, 0, 0],\n",
       "       [0, 0, 0, 0, 0]], dtype=int8)"
      ]
     },
     "execution_count": 15,
     "metadata": {},
     "output_type": "execute_result"
    }
   ],
   "source": [
    "array_0s"
   ]
  },
  {
   "cell_type": "code",
   "execution_count": 19,
   "id": "44978fe5",
   "metadata": {},
   "outputs": [],
   "source": [
    "array_1s = np.ones(shape=(2,5))"
   ]
  },
  {
   "cell_type": "code",
   "execution_count": 20,
   "id": "437d6d11",
   "metadata": {},
   "outputs": [
    {
     "data": {
      "text/plain": [
       "array([[1., 1., 1., 1., 1.],\n",
       "       [1., 1., 1., 1., 1.]])"
      ]
     },
     "execution_count": 20,
     "metadata": {},
     "output_type": "execute_result"
    }
   ],
   "source": [
    "array_1s"
   ]
  },
  {
   "cell_type": "code",
   "execution_count": 21,
   "id": "90892164",
   "metadata": {},
   "outputs": [],
   "source": [
    "array_value = np.full(shape=(2,5),fill_value=2)"
   ]
  },
  {
   "cell_type": "code",
   "execution_count": 22,
   "id": "f0f81100",
   "metadata": {},
   "outputs": [
    {
     "data": {
      "text/plain": [
       "array([[2, 2, 2, 2, 2],\n",
       "       [2, 2, 2, 2, 2]])"
      ]
     },
     "execution_count": 22,
     "metadata": {},
     "output_type": "execute_result"
    }
   ],
   "source": [
    "array_value"
   ]
  },
  {
   "cell_type": "code",
   "execution_count": 23,
   "id": "ce179e57",
   "metadata": {},
   "outputs": [],
   "source": [
    "array_2D = np.array([[1,0,9,2,2],[3,23,4,5,1],[0,2,3,4,1]])"
   ]
  },
  {
   "cell_type": "code",
   "execution_count": 27,
   "id": "83ace02f",
   "metadata": {},
   "outputs": [
    {
     "data": {
      "text/plain": [
       "array([[ 1,  0,  9,  2,  2],\n",
       "       [ 3, 23,  4,  5,  1],\n",
       "       [ 0,  2,  3,  4,  1]])"
      ]
     },
     "execution_count": 27,
     "metadata": {},
     "output_type": "execute_result"
    }
   ],
   "source": [
    "array_2D\n"
   ]
  },
  {
   "cell_type": "code",
   "execution_count": 25,
   "id": "39c3e345",
   "metadata": {},
   "outputs": [],
   "source": [
    "array_empty_like = np.empty_like(array_2D)"
   ]
  },
  {
   "cell_type": "code",
   "execution_count": 31,
   "id": "da59d754",
   "metadata": {},
   "outputs": [
    {
     "data": {
      "text/plain": [
       "(3, 5)"
      ]
     },
     "execution_count": 31,
     "metadata": {},
     "output_type": "execute_result"
    }
   ],
   "source": [
    "array_empty_like.shape"
   ]
  },
  {
   "cell_type": "code",
   "execution_count": 32,
   "id": "2bc7abf4",
   "metadata": {},
   "outputs": [],
   "source": [
    "array_0s_like = np.zeros_like(array_2D)"
   ]
  },
  {
   "cell_type": "code",
   "execution_count": 33,
   "id": "f222e958",
   "metadata": {},
   "outputs": [
    {
     "data": {
      "text/plain": [
       "array([[0, 0, 0, 0, 0],\n",
       "       [0, 0, 0, 0, 0],\n",
       "       [0, 0, 0, 0, 0]])"
      ]
     },
     "execution_count": 33,
     "metadata": {},
     "output_type": "execute_result"
    }
   ],
   "source": [
    "array_0s_like"
   ]
  },
  {
   "cell_type": "code",
   "execution_count": 51,
   "id": "d0c64a89",
   "metadata": {},
   "outputs": [],
   "source": [
    "array_range = np.arange(start=0,stop=30,step=2.5,dtype=np.int32)"
   ]
  },
  {
   "cell_type": "code",
   "execution_count": 52,
   "id": "1a283962",
   "metadata": {},
   "outputs": [
    {
     "data": {
      "text/plain": [
       "array([ 0,  2,  4,  6,  8, 10, 12, 14, 16, 18, 20, 22], dtype=int32)"
      ]
     },
     "execution_count": 52,
     "metadata": {},
     "output_type": "execute_result"
    }
   ],
   "source": [
    "array_range"
   ]
  },
  {
   "cell_type": "code",
   "execution_count": 44,
   "id": "743335a7",
   "metadata": {},
   "outputs": [
    {
     "data": {
      "text/plain": [
       "[0, 1, 2, 3, 4, 5, 6, 7, 8, 9]"
      ]
     },
     "execution_count": 44,
     "metadata": {},
     "output_type": "execute_result"
    }
   ],
   "source": [
    "list(array_range)"
   ]
  },
  {
   "cell_type": "code",
   "execution_count": 54,
   "id": "8e14026b",
   "metadata": {},
   "outputs": [],
   "source": [
    "from numpy.random import Generator as gen\n",
    "from numpy.random import PCG64 as pcg"
   ]
  },
  {
   "cell_type": "code",
   "execution_count": 95,
   "id": "29febf61",
   "metadata": {},
   "outputs": [],
   "source": [
    "array_RG = gen(pcg(seed=365))"
   ]
  },
  {
   "cell_type": "code",
   "execution_count": 97,
   "id": "06867e45",
   "metadata": {},
   "outputs": [
    {
     "data": {
      "text/plain": [
       "array([[ 1.05391641, -0.6866818 , -0.50922173]])"
      ]
     },
     "execution_count": 97,
     "metadata": {},
     "output_type": "execute_result"
    }
   ],
   "source": [
    "array_RG.normal(size=(1,3))"
   ]
  },
  {
   "cell_type": "code",
   "execution_count": 98,
   "id": "7836dce0",
   "metadata": {},
   "outputs": [],
   "source": [
    "array_RG = gen(pcg(seed=365))"
   ]
  },
  {
   "cell_type": "code",
   "execution_count": 100,
   "id": "a1c8d62b",
   "metadata": {},
   "outputs": [
    {
     "data": {
      "text/plain": [
       "array([[16, 80, 72, 19, 43],\n",
       "       [23, 36, 46, 54, 75],\n",
       "       [53, 30, 66, 43, 59],\n",
       "       [14, 68, 28, 13, 58],\n",
       "       [74, 74, 86, 37, 25]])"
      ]
     },
     "execution_count": 100,
     "metadata": {},
     "output_type": "execute_result"
    }
   ],
   "source": [
    "array_RG.integers(low=10,high=100,size=(5,5),)"
   ]
  },
  {
   "cell_type": "code",
   "execution_count": 104,
   "id": "4197a31c",
   "metadata": {},
   "outputs": [
    {
     "data": {
      "text/plain": [
       "array([[0.75915734, 0.7662218 , 0.6291028 , 0.20336599, 0.66501486],\n",
       "       [0.06559111, 0.71326309, 0.10812106, 0.87969046, 0.49405844],\n",
       "       [0.82472673, 0.45652944, 0.07367232, 0.69628564, 0.36690736],\n",
       "       [0.29787156, 0.4996155 , 0.4865245 , 0.62740703, 0.54952637],\n",
       "       [0.64894629, 0.04411757, 0.7206516 , 0.84594003, 0.17159792]])"
      ]
     },
     "execution_count": 104,
     "metadata": {},
     "output_type": "execute_result"
    }
   ],
   "source": [
    "array_RG = gen(pcg(seed=365))\n",
    "array_RG.random(size=(5,5))"
   ]
  },
  {
   "cell_type": "code",
   "execution_count": 111,
   "id": "b9587dc5",
   "metadata": {},
   "outputs": [
    {
     "data": {
      "text/plain": [
       "array([[3, 3, 2, 1, 2],\n",
       "       [1, 3, 1, 4, 1],\n",
       "       [4, 1, 1, 2, 1],\n",
       "       [1, 1, 1, 2, 1],\n",
       "       [2, 1, 3, 4, 1]])"
      ]
     },
     "execution_count": 111,
     "metadata": {},
     "output_type": "execute_result"
    }
   ],
   "source": [
    "array_RG = gen(pcg(seed=365))\n",
    "array_RG.choice([1,2,3,4,5],p=[0.6,0.1,0.1,0.1,0.1],size=(5,5))"
   ]
  },
  {
   "cell_type": "code",
   "execution_count": 112,
   "id": "3cdca6b9",
   "metadata": {},
   "outputs": [],
   "source": [
    "array_RG = gen(pcg(seed=365))"
   ]
  },
  {
   "cell_type": "raw",
   "id": "be4423f2",
   "metadata": {},
   "source": [
    "array_RG.poisson(size=(5,5))"
   ]
  },
  {
   "cell_type": "code",
   "execution_count": 113,
   "id": "51a84e7f",
   "metadata": {},
   "outputs": [],
   "source": [
    "array_RG = gen(pcg(seed=365))"
   ]
  },
  {
   "cell_type": "code",
   "execution_count": 121,
   "id": "9f224aa7",
   "metadata": {},
   "outputs": [
    {
     "data": {
      "text/plain": [
       "array([[ 6, 11,  6, 11, 10],\n",
       "       [14,  7, 11,  9,  9],\n",
       "       [ 8, 10, 17, 14, 11],\n",
       "       [13,  8, 15,  8, 10],\n",
       "       [10,  5,  6, 12,  9]])"
      ]
     },
     "execution_count": 121,
     "metadata": {},
     "output_type": "execute_result"
    }
   ],
   "source": [
    "array_RG.poisson(size=(5,5),lam=10)"
   ]
  },
  {
   "cell_type": "code",
   "execution_count": 122,
   "id": "35096701",
   "metadata": {},
   "outputs": [],
   "source": [
    "array_RG=gen(pcg(seed=365))"
   ]
  },
  {
   "cell_type": "code",
   "execution_count": 123,
   "id": "e1b0040d",
   "metadata": {},
   "outputs": [
    {
     "data": {
      "text/plain": [
       "array([[42, 44, 30, 36, 45],\n",
       "       [36, 41, 38, 42, 41],\n",
       "       [35, 31, 35, 46, 29],\n",
       "       [41, 41, 46, 34, 48],\n",
       "       [45, 45, 45, 40, 43]])"
      ]
     },
     "execution_count": 123,
     "metadata": {},
     "output_type": "execute_result"
    }
   ],
   "source": [
    "array_RG.binomial(n=100,p=0.4,size=(5,5))"
   ]
  },
  {
   "cell_type": "code",
   "execution_count": 125,
   "id": "5a3be2e3",
   "metadata": {},
   "outputs": [
    {
     "data": {
      "text/plain": [
       "array([[10.37767822, 10.42451863,  9.63404367,  7.36153427,  9.82286787],\n",
       "       [ 5.81223125, 10.09354231,  6.46790532, 11.38740256,  8.97147918],\n",
       "       [10.85844698,  8.79081317,  5.962079  ,  9.99560681,  8.34539118],\n",
       "       [ 7.97105522,  8.9981544 ,  8.93530194,  9.6253307 ,  9.23850869],\n",
       "       [ 9.73729284,  5.3090678 , 10.13723528, 11.04372782,  7.11078651]])"
      ]
     },
     "execution_count": 125,
     "metadata": {},
     "output_type": "execute_result"
    }
   ],
   "source": [
    "array_RG=gen(pcg(seed=365))\n",
    "array_RG.logistic(size=(5,5),scale=1.2,loc=9)"
   ]
  },
  {
   "cell_type": "code",
   "execution_count": null,
   "id": "7b3a3af2",
   "metadata": {},
   "outputs": [],
   "source": []
  }
 ],
 "metadata": {
  "kernelspec": {
   "display_name": "Python 3 (ipykernel)",
   "language": "python",
   "name": "python3"
  },
  "language_info": {
   "codemirror_mode": {
    "name": "ipython",
    "version": 3
   },
   "file_extension": ".py",
   "mimetype": "text/x-python",
   "name": "python",
   "nbconvert_exporter": "python",
   "pygments_lexer": "ipython3",
   "version": "3.11.3"
  }
 },
 "nbformat": 4,
 "nbformat_minor": 5
}
