{
 "cells": [
  {
   "cell_type": "markdown",
   "metadata": {},
   "source": [
    "# Generating Data with Numpy"
   ]
  },
  {
   "cell_type": "markdown",
   "metadata": {},
   "source": [
    "### 1. Run these next few cells:"
   ]
  },
  {
   "cell_type": "code",
   "execution_count": 1,
   "metadata": {},
   "outputs": [],
   "source": [
    "import numpy as np"
   ]
  },
  {
   "cell_type": "code",
   "execution_count": 2,
   "metadata": {},
   "outputs": [
    {
     "data": {
      "text/plain": [
       "array([10, 11, 12, 13, 14])"
      ]
     },
     "execution_count": 2,
     "metadata": {},
     "output_type": "execute_result"
    }
   ],
   "source": [
    "array_1D = np.array([10,11,12,13, 14])\n",
    "array_1D"
   ]
  },
  {
   "cell_type": "code",
   "execution_count": 3,
   "metadata": {},
   "outputs": [
    {
     "data": {
      "text/plain": [
       "array([[20, 30, 40, 50, 60],\n",
       "       [43, 54, 65, 76, 87],\n",
       "       [11, 22, 33, 44, 55]])"
      ]
     },
     "execution_count": 3,
     "metadata": {},
     "output_type": "execute_result"
    }
   ],
   "source": [
    "array_2D = np.array([[20,30,40,50,60], [43,54,65,76,87], [11,22,33,44,55]])\n",
    "array_2D"
   ]
  },
  {
   "cell_type": "code",
   "execution_count": 4,
   "metadata": {},
   "outputs": [
    {
     "data": {
      "text/plain": [
       "array([[[ 1,  2,  3,  4,  5],\n",
       "        [11, 21, 31, 41, 51]],\n",
       "\n",
       "       [[11, 12, 13, 14, 15],\n",
       "        [51, 52, 53, 54,  5]]])"
      ]
     },
     "execution_count": 4,
     "metadata": {},
     "output_type": "execute_result"
    }
   ],
   "source": [
    "array_3D = np.array([[[1,2,3,4,5], [11,21,31,41,51]], [[11,12,13,14,15], [51,52,53,54,5]]])\n",
    "array_3D"
   ]
  },
  {
   "cell_type": "markdown",
   "metadata": {},
   "source": [
    "### 2. Generate 4 arrays of size 10:\n",
    "    A) The first one should be \"empty\"\n",
    "    B) The second one should be full of 0s\n",
    "    C) The third one should be full of 1s\n",
    "    D) The last one should be full of 2s\n",
    "   (<b>Hint</b>: Try to use 4 different functions here.)"
   ]
  },
  {
   "cell_type": "code",
   "execution_count": 7,
   "metadata": {},
   "outputs": [
    {
     "data": {
      "text/plain": [
       "array([0., 0., 0., 0., 0., 0., 0., 0., 0., 0.])"
      ]
     },
     "execution_count": 7,
     "metadata": {},
     "output_type": "execute_result"
    }
   ],
   "source": [
    "array_empty = np.empty(10)\n",
    "array_empty"
   ]
  },
  {
   "cell_type": "code",
   "execution_count": 11,
   "metadata": {},
   "outputs": [
    {
     "data": {
      "text/plain": [
       "array([0., 0., 0., 0., 0., 0., 0., 0., 0., 0.])"
      ]
     },
     "execution_count": 11,
     "metadata": {},
     "output_type": "execute_result"
    }
   ],
   "source": [
    "array_0s = np.zeros(10)\n",
    "array_0s"
   ]
  },
  {
   "cell_type": "code",
   "execution_count": 12,
   "metadata": {},
   "outputs": [],
   "source": [
    "array_1s = np.ones(10)"
   ]
  },
  {
   "cell_type": "code",
   "execution_count": 13,
   "metadata": {},
   "outputs": [
    {
     "data": {
      "text/plain": [
       "array([1., 1., 1., 1., 1., 1., 1., 1., 1., 1.])"
      ]
     },
     "execution_count": 13,
     "metadata": {},
     "output_type": "execute_result"
    }
   ],
   "source": [
    "array_1s"
   ]
  },
  {
   "cell_type": "code",
   "execution_count": 21,
   "metadata": {},
   "outputs": [
    {
     "data": {
      "text/plain": [
       "array([2, 2, 2, 2, 2, 2, 2, 2, 2, 2])"
      ]
     },
     "execution_count": 21,
     "metadata": {},
     "output_type": "execute_result"
    }
   ],
   "source": [
    "array_2s = np.full(10,fill_value=2)\n",
    "array_2s"
   ]
  },
  {
   "cell_type": "markdown",
   "metadata": {},
   "source": [
    "### 3. Generate 4 more arrays. This time, they should be 2 by 4 arrays. "
   ]
  },
  {
   "cell_type": "code",
   "execution_count": 25,
   "metadata": {},
   "outputs": [
    {
     "data": {
      "text/plain": [
       "array([[0., 0., 0., 0.],\n",
       "       [0., 0., 0., 0.]])"
      ]
     },
     "execution_count": 25,
     "metadata": {},
     "output_type": "execute_result"
    }
   ],
   "source": [
    "array_empty2D=np.empty((2,4))\n",
    "array_empty2D"
   ]
  },
  {
   "cell_type": "code",
   "execution_count": 31,
   "metadata": {},
   "outputs": [
    {
     "data": {
      "text/plain": [
       "array([[0, 0, 0, 0],\n",
       "       [0, 0, 0, 0]])"
      ]
     },
     "execution_count": 31,
     "metadata": {},
     "output_type": "execute_result"
    }
   ],
   "source": [
    "array_zeros2D = np.zeros((2,4),dtype='int64')\n",
    "array_zeros2D"
   ]
  },
  {
   "cell_type": "code",
   "execution_count": 33,
   "metadata": {},
   "outputs": [
    {
     "data": {
      "text/plain": [
       "array([[1., 1., 1., 1.],\n",
       "       [1., 1., 1., 1.]])"
      ]
     },
     "execution_count": 33,
     "metadata": {},
     "output_type": "execute_result"
    }
   ],
   "source": [
    "array_1s2D = np.ones((2,4))\n",
    "array_1s2D"
   ]
  },
  {
   "cell_type": "code",
   "execution_count": 36,
   "metadata": {},
   "outputs": [
    {
     "data": {
      "text/plain": [
       "array([[5, 5, 5, 5],\n",
       "       [5, 5, 5, 5]])"
      ]
     },
     "execution_count": 36,
     "metadata": {},
     "output_type": "execute_result"
    }
   ],
   "source": [
    "array_2sD = np.full((2,4,),fill_value=5)\n",
    "array_2sD"
   ]
  },
  {
   "cell_type": "markdown",
   "metadata": {},
   "source": [
    "### 4. Use the <i> _like </i> functions to generate 4 more arrays:\n",
    "    A) An empty array with the same shape as array_1D. \n",
    "    B) An 2-D array of 0s with the same shape as array_2D.\n",
    "    C) A 3-D array of 1s with the same shappe as array_3D.\n",
    "    D) A 3-D array of 2s with the same shape as array_3D. "
   ]
  },
  {
   "cell_type": "code",
   "execution_count": 41,
   "metadata": {},
   "outputs": [
    {
     "data": {
      "text/plain": [
       "array([0., 0., 0., 0., 0., 0., 0., 0., 0., 0.])"
      ]
     },
     "execution_count": 41,
     "metadata": {},
     "output_type": "execute_result"
    }
   ],
   "source": [
    "array_empty_like = np.empty_like(array_empty)\n",
    "array_empty_like\n"
   ]
  },
  {
   "cell_type": "code",
   "execution_count": 51,
   "metadata": {},
   "outputs": [
    {
     "data": {
      "text/plain": [
       "array([[0, 0, 0, 0],\n",
       "       [0, 0, 0, 0]])"
      ]
     },
     "execution_count": 51,
     "metadata": {},
     "output_type": "execute_result"
    }
   ],
   "source": [
    "array_2D_like = np.zeros_like(array_zeros2D)\n",
    "array_2D_like"
   ]
  },
  {
   "cell_type": "code",
   "execution_count": 52,
   "metadata": {},
   "outputs": [
    {
     "data": {
      "text/plain": [
       "array([[0, 0, 0, 0],\n",
       "       [0, 0, 0, 0]])"
      ]
     },
     "execution_count": 52,
     "metadata": {},
     "output_type": "execute_result"
    }
   ],
   "source": [
    "array_2D_like"
   ]
  },
  {
   "cell_type": "code",
   "execution_count": 55,
   "metadata": {},
   "outputs": [
    {
     "data": {
      "text/plain": [
       "array([[[1, 1, 1, 1, 1],\n",
       "        [1, 1, 1, 1, 1]],\n",
       "\n",
       "       [[1, 1, 1, 1, 1],\n",
       "        [1, 1, 1, 1, 1]]])"
      ]
     },
     "execution_count": 55,
     "metadata": {},
     "output_type": "execute_result"
    }
   ],
   "source": [
    "array_3D_like = np.ones_like(array_3D)\n",
    "array_3D_like"
   ]
  },
  {
   "cell_type": "code",
   "execution_count": 58,
   "metadata": {},
   "outputs": [
    {
     "data": {
      "text/plain": [
       "array([[[2, 2, 2, 2, 2],\n",
       "        [2, 2, 2, 2, 2]],\n",
       "\n",
       "       [[2, 2, 2, 2, 2],\n",
       "        [2, 2, 2, 2, 2]]])"
      ]
     },
     "execution_count": 58,
     "metadata": {},
     "output_type": "execute_result"
    }
   ],
   "source": [
    "array_3D_likex = np.full_like(array_3D,2)\n",
    "array_3D_likex"
   ]
  },
  {
   "cell_type": "markdown",
   "metadata": {},
   "source": [
    "### 5. With the help of the np.arange() function, generate several sequences of numbers:\n",
    "    A) The integers from 0 to 50, excluding 50. \n",
    "    B) The integers from 1 to 50, including 50. \n",
    "    C) The integers from 25 to 50, including 50. \n",
    "    D) Every 5-th integers from 25 to 50, including 50. \n",
    "    E) Every 5-th integers from 25 to 50, including 50, represented as decimals of up to 32 bits. "
   ]
  },
  {
   "cell_type": "code",
   "execution_count": 60,
   "metadata": {},
   "outputs": [
    {
     "data": {
      "text/plain": [
       "array([ 0,  1,  2,  3,  4,  5,  6,  7,  8,  9, 10, 11, 12, 13, 14, 15, 16,\n",
       "       17, 18, 19, 20, 21, 22, 23, 24, 25, 26, 27, 28, 29, 30, 31, 32, 33,\n",
       "       34, 35, 36, 37, 38, 39, 40, 41, 42, 43, 44, 45, 46, 47, 48, 49])"
      ]
     },
     "execution_count": 60,
     "metadata": {},
     "output_type": "execute_result"
    }
   ],
   "source": [
    "np.arange(50)"
   ]
  },
  {
   "cell_type": "code",
   "execution_count": 64,
   "metadata": {},
   "outputs": [
    {
     "data": {
      "text/plain": [
       "array([ 1,  2,  3,  4,  5,  6,  7,  8,  9, 10, 11, 12, 13, 14, 15, 16, 17,\n",
       "       18, 19, 20, 21, 22, 23, 24, 25, 26, 27, 28, 29, 30, 31, 32, 33, 34,\n",
       "       35, 36, 37, 38, 39, 40, 41, 42, 43, 44, 45, 46, 47, 48, 49, 50])"
      ]
     },
     "execution_count": 64,
     "metadata": {},
     "output_type": "execute_result"
    }
   ],
   "source": [
    "np.arange(1,51)"
   ]
  },
  {
   "cell_type": "code",
   "execution_count": 65,
   "metadata": {},
   "outputs": [
    {
     "data": {
      "text/plain": [
       "array([26, 27, 28, 29, 30, 31, 32, 33, 34, 35, 36, 37, 38, 39, 40, 41, 42,\n",
       "       43, 44, 45, 46, 47, 48, 49, 50])"
      ]
     },
     "execution_count": 65,
     "metadata": {},
     "output_type": "execute_result"
    }
   ],
   "source": [
    "np.arange(26,51)"
   ]
  },
  {
   "cell_type": "code",
   "execution_count": 67,
   "metadata": {},
   "outputs": [
    {
     "data": {
      "text/plain": [
       "array([26., 27., 28., 29., 30., 31., 32., 33., 34., 35., 36., 37., 38.,\n",
       "       39., 40., 41., 42., 43., 44., 45., 46., 47., 48., 49., 50.],\n",
       "      dtype=float32)"
      ]
     },
     "execution_count": 67,
     "metadata": {},
     "output_type": "execute_result"
    }
   ],
   "source": [
    "np.arange(26,51,dtype=np.float32)"
   ]
  },
  {
   "cell_type": "code",
   "execution_count": null,
   "metadata": {},
   "outputs": [],
   "source": []
  },
  {
   "cell_type": "markdown",
   "metadata": {},
   "source": [
    "### 6. Import the following functions from the numpy.random module:\n",
    "    A) Generator as \"gen\".\n",
    "    B) PCG64 as \"pcg\""
   ]
  },
  {
   "cell_type": "code",
   "execution_count": 68,
   "metadata": {},
   "outputs": [],
   "source": [
    "from numpy.random import Generator as gen"
   ]
  },
  {
   "cell_type": "code",
   "execution_count": 69,
   "metadata": {},
   "outputs": [],
   "source": [
    "from numpy.random import PCG64 as pcg"
   ]
  },
  {
   "cell_type": "markdown",
   "metadata": {},
   "source": [
    "### 7. Create a random generator object."
   ]
  },
  {
   "cell_type": "code",
   "execution_count": 72,
   "metadata": {},
   "outputs": [
    {
     "data": {
      "text/plain": [
       "array([0.70839167, 0.88944287, 0.32534601, 0.22278122, 0.17014199,\n",
       "       0.76629397, 0.70420699, 0.35132301, 0.2015555 , 0.81851675])"
      ]
     },
     "execution_count": 72,
     "metadata": {},
     "output_type": "execute_result"
    }
   ],
   "source": [
    "array_RG = gen(pcg())\n",
    "array_RG.random(10)"
   ]
  },
  {
   "cell_type": "markdown",
   "metadata": {},
   "source": [
    "### 8. Using the .random() method, generate the following pseudo-random values:\n",
    "    A) A single probability of an event occuring.\n",
    "    B) An array of size 10 with the probabilities of 10 events. \n",
    "    C) A 5 by 10 2-D array with the probabilities of 50 events.  "
   ]
  },
  {
   "cell_type": "code",
   "execution_count": 77,
   "metadata": {},
   "outputs": [
    {
     "data": {
      "text/plain": [
       "array([[0.72500186, 0.87238658, 0.4027667 , 0.3655341 , 0.36470277,\n",
       "        0.01782636, 0.4820497 , 0.54626832, 0.30074284, 0.37425596],\n",
       "       [0.36670387, 0.71363893, 0.57231541, 0.93605593, 0.68968987,\n",
       "        0.93263027, 0.11203722, 0.95254568, 0.32538276, 0.13917186],\n",
       "       [0.16291469, 0.02924543, 0.6583896 , 0.71840152, 0.33992413,\n",
       "        0.08808893, 0.83349079, 0.37216304, 0.32325555, 0.20372173],\n",
       "       [0.50009586, 0.63181717, 0.85235447, 0.06478864, 0.15564879,\n",
       "        0.40030658, 0.35322376, 0.51612447, 0.86341179, 0.61821911],\n",
       "       [0.14590138, 0.85577273, 0.47174817, 0.73696557, 0.98316213,\n",
       "        0.22178853, 0.44543985, 0.59781314, 0.46835456, 0.68760516]])"
      ]
     },
     "execution_count": 77,
     "metadata": {},
     "output_type": "execute_result"
    }
   ],
   "source": [
    "array_RG.random((5,10))"
   ]
  },
  {
   "cell_type": "code",
   "execution_count": null,
   "metadata": {},
   "outputs": [],
   "source": []
  },
  {
   "cell_type": "markdown",
   "metadata": {},
   "source": [
    "### 9. Set the seed for the random generator to 123, and generate the same 3 sets of values:\n",
    "    A) A single probability of an event occuring.\n",
    "    B) An array of size 10 with the probabilities of 10 events. \n",
    "    C) A 5 by 10 2-D array with the probabilities of 50 events.  \n",
    "   <b> Note: </b> The seed only lasts for a single method before it gets reset. Hence, make sure you define the seed before calling the method every time. "
   ]
  },
  {
   "cell_type": "code",
   "execution_count": 78,
   "metadata": {},
   "outputs": [
    {
     "data": {
      "text/plain": [
       "0.6823518632481435"
      ]
     },
     "execution_count": 78,
     "metadata": {},
     "output_type": "execute_result"
    }
   ],
   "source": [
    "array_RG = gen(pcg(123))\n",
    "array_RG.random()"
   ]
  },
  {
   "cell_type": "code",
   "execution_count": 79,
   "metadata": {},
   "outputs": [
    {
     "data": {
      "text/plain": [
       "array([0.68235186, 0.05382102, 0.22035987, 0.18437181, 0.1759059 ,\n",
       "       0.81209451, 0.923345  , 0.2765744 , 0.81975456, 0.88989269])"
      ]
     },
     "execution_count": 79,
     "metadata": {},
     "output_type": "execute_result"
    }
   ],
   "source": [
    "array_RG = gen(pcg(123))\n",
    "array_RG.random(10)"
   ]
  },
  {
   "cell_type": "code",
   "execution_count": 81,
   "metadata": {},
   "outputs": [
    {
     "data": {
      "text/plain": [
       "array([[0.68235186, 0.05382102, 0.22035987, 0.18437181, 0.1759059 ,\n",
       "        0.81209451, 0.923345  , 0.2765744 , 0.81975456, 0.88989269],\n",
       "       [0.51297046, 0.2449646 , 0.8242416 , 0.21376296, 0.74146705,\n",
       "        0.6299402 , 0.92740726, 0.23190819, 0.79912513, 0.51816504],\n",
       "       [0.23155562, 0.16590399, 0.49778897, 0.58272464, 0.18433799,\n",
       "        0.01489492, 0.47113323, 0.72824333, 0.91860049, 0.62553401],\n",
       "       [0.91712257, 0.86469025, 0.21814287, 0.86612743, 0.73075194,\n",
       "        0.27786529, 0.79704355, 0.86522171, 0.2994379 , 0.52704208],\n",
       "       [0.07148681, 0.58323841, 0.2379064 , 0.76496365, 0.17363164,\n",
       "        0.31274226, 0.01447448, 0.03255192, 0.49670184, 0.46831253]])"
      ]
     },
     "execution_count": 81,
     "metadata": {},
     "output_type": "execute_result"
    }
   ],
   "source": [
    "array_RG = gen(pcg(123))\n",
    "array_RG.random((5,10))"
   ]
  },
  {
   "cell_type": "markdown",
   "metadata": {},
   "source": [
    "### 10. Set the seed for the random generator to 123, and generate the following arrays of integers:\n",
    "    A) A single integer between 0 and 10.\n",
    "    B) A 1-D array of 10 integers between 0 and 100.\n",
    "    C) A 5 by 10 array of two-digit integers."
   ]
  },
  {
   "cell_type": "code",
   "execution_count": 82,
   "metadata": {},
   "outputs": [
    {
     "data": {
      "text/plain": [
       "0"
      ]
     },
     "execution_count": 82,
     "metadata": {},
     "output_type": "execute_result"
    }
   ],
   "source": [
    "array_RG = gen(pcg(123))\n",
    "array_RG.integers(10)"
   ]
  },
  {
   "cell_type": "code",
   "execution_count": 83,
   "metadata": {},
   "outputs": [
    {
     "data": {
      "text/plain": [
       "array([0, 6, 5, 0, 9, 2, 2, 1, 3, 1])"
      ]
     },
     "execution_count": 83,
     "metadata": {},
     "output_type": "execute_result"
    }
   ],
   "source": [
    "array_RG = gen(pcg(123))\n",
    "array_RG.integers(10, size = 10)"
   ]
  },
  {
   "cell_type": "code",
   "execution_count": 92,
   "metadata": {},
   "outputs": [
    {
     "data": {
      "text/plain": [
       "array([11, 71, 63, 14, 91, 29, 32, 26, 40, 25])"
      ]
     },
     "execution_count": 92,
     "metadata": {},
     "output_type": "execute_result"
    }
   ],
   "source": [
    "array_RG = gen(pcg(123))\n",
    "array_RG.integers(low=10,high=100,size = 10)"
   ]
  },
  {
   "cell_type": "markdown",
   "metadata": {},
   "source": [
    "### 11. For this next bit, check the NumPy documentation and select 3 different probability distributions (e.g. normal, poisson, binomial, logistic) and generate the following:\n",
    "    A) One \"default\" value from one distribution (without specifying any non-mandatory arguments).\n",
    "    B) An array of 10 values from the second distribution. \n",
    "    C) A 5 by 10 2-D array with values from the third distribution."
   ]
  },
  {
   "cell_type": "code",
   "execution_count": 91,
   "metadata": {},
   "outputs": [
    {
     "data": {
      "text/plain": [
       "array([[11, 70, 62, 14, 90, 29, 32, 26, 39, 25],\n",
       "       [40, 82, 50, 92, 50, 34, 80, 82, 86, 89],\n",
       "       [12, 55, 33, 31, 31, 83, 80, 29, 46, 75],\n",
       "       [23, 66, 49, 92, 75, 30, 84, 81, 28, 56],\n",
       "       [80, 30, 31, 24, 10, 54, 11, 61, 47, 26]])"
      ]
     },
     "execution_count": 91,
     "metadata": {},
     "output_type": "execute_result"
    }
   ],
   "source": [
    "array_RG = gen(pcg(123))\n",
    "array_RG.integers(low=10,high=99, size = (5,10))"
   ]
  },
  {
   "cell_type": "code",
   "execution_count": 93,
   "metadata": {},
   "outputs": [
    {
     "data": {
      "text/plain": [
       "-0.9891213503478509"
      ]
     },
     "execution_count": 93,
     "metadata": {},
     "output_type": "execute_result"
    }
   ],
   "source": [
    "array_RG = gen(pcg(seed = 123)) \n",
    "array_RG.normal()"
   ]
  },
  {
   "cell_type": "code",
   "execution_count": 94,
   "metadata": {},
   "outputs": [
    {
     "data": {
      "text/plain": [
       "array([17, 11, 11, 22, 15, 19, 18, 22, 19, 12])"
      ]
     },
     "execution_count": 94,
     "metadata": {},
     "output_type": "execute_result"
    }
   ],
   "source": [
    "array_RG = gen(pcg(seed = 123)) \n",
    "array_RG.poisson(size = 10, lam = 15)"
   ]
  },
  {
   "cell_type": "code",
   "execution_count": 95,
   "metadata": {},
   "outputs": [
    {
     "data": {
      "text/plain": [
       "array([[67, 67, 72, 59, 77, 72, 81, 79, 67, 67],\n",
       "       [62, 63, 72, 65, 77, 68, 73, 71, 69, 70],\n",
       "       [72, 69, 72, 78, 70, 75, 61, 75, 72, 74],\n",
       "       [75, 72, 70, 60, 77, 67, 70, 73, 67, 68],\n",
       "       [59, 66, 65, 67, 76, 65, 68, 73, 66, 67]])"
      ]
     },
     "execution_count": 95,
     "metadata": {},
     "output_type": "execute_result"
    }
   ],
   "source": [
    "array_RG = gen(pcg(seed = 123)) \n",
    "array_RG.binomial(n = 100, p = 0.7, size = (5,10))"
   ]
  },
  {
   "cell_type": "code",
   "execution_count": null,
   "metadata": {},
   "outputs": [],
   "source": []
  }
 ],
 "metadata": {
  "kernelspec": {
   "display_name": "Python 3 (ipykernel)",
   "language": "python",
   "name": "python3"
  },
  "language_info": {
   "codemirror_mode": {
    "name": "ipython",
    "version": 3
   },
   "file_extension": ".py",
   "mimetype": "text/x-python",
   "name": "python",
   "nbconvert_exporter": "python",
   "pygments_lexer": "ipython3",
   "version": "3.11.3"
  }
 },
 "nbformat": 4,
 "nbformat_minor": 2
}
