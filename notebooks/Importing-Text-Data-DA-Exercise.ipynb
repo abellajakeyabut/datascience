{
 "cells": [
  {
   "cell_type": "markdown",
   "metadata": {},
   "source": [
    "## Importing Data with NumPy"
   ]
  },
  {
   "cell_type": "markdown",
   "metadata": {},
   "source": [
    "### 1. Run the following cells:"
   ]
  },
  {
   "cell_type": "code",
   "execution_count": 1,
   "metadata": {},
   "outputs": [],
   "source": [
    "import numpy as np"
   ]
  },
  {
   "cell_type": "code",
   "execution_count": 2,
   "metadata": {},
   "outputs": [],
   "source": [
    "np.set_printoptions(suppress = True, linewidth = 150)"
   ]
  },
  {
   "cell_type": "markdown",
   "metadata": {},
   "source": [
    "### 2. Use loadtxt() to import the same file and display its contents. \n",
    "   <b> Hint:</b> By default np.loadtxt() asusmes all the values will be numeric, so it crashes when it encounters text data. We can bypass this by specifying the datatype to NumPy strings when importing. "
   ]
  },
  {
   "cell_type": "code",
   "execution_count": 18,
   "metadata": {},
   "outputs": [
    {
     "data": {
      "text/plain": [
       "array([[ 2200.,    45.,   365.,  3221.,  4166., 14621.],\n",
       "       [ 2200.,    45.,   365.,  3161.,  4096., 16041.],\n",
       "       [ 1000.,    45.,   365.,  2260.,  3205., 16340.],\n",
       "       ...,\n",
       "       [ 2200.,    45.,   365.,  4051.,  5143., 16617.],\n",
       "       [ 1000.,    45.,   365.,  1930.,  3462., 15617.],\n",
       "       [ 2200.,    45.,   365.,  4451.,  4743., 16617.]])"
      ]
     },
     "execution_count": 18,
     "metadata": {},
     "output_type": "execute_result"
    }
   ],
   "source": [
    "np.loadtxt('/Users/jakeabella/UDM-DATASCIENCE 001/Data Analyst Course/files/Lending-company.csv',usecols=(8,9,10,11,12,13),skiprows=1,delimiter=',',)"
   ]
  },
  {
   "cell_type": "markdown",
   "metadata": {},
   "source": [
    "### 3. Use np.genfromtxt() to import the \"Lending-Company-Total-Price.csv\" file and display its contents.\n",
    "    You can open the file in a text editor like Notepad++ to check its delimiter. "
   ]
  },
  {
   "cell_type": "code",
   "execution_count": 98,
   "metadata": {},
   "outputs": [
    {
     "data": {
      "text/plain": [
       "array([[   nan,    nan,    nan, ...,    nan,    nan,    nan],\n",
       "       [   10.,    nan,    nan, ...,    nan,    nan, 20250.],\n",
       "       [   11.,    nan,    nan, ...,    nan,    nan, 16600.],\n",
       "       ...,\n",
       "       [  413.,    nan,    nan, ...,    nan,    nan, 16600.],\n",
       "       [  414.,    nan,    nan, ...,    nan,    nan, 15600.],\n",
       "       [  415.,    nan,    nan, ...,    nan,    nan, 22250.]])"
      ]
     },
     "execution_count": 98,
     "metadata": {},
     "output_type": "execute_result"
    }
   ],
   "source": [
    "np.genfromtxt('/Users/jakeabella/UDM-DATASCIENCE 001/Data Analyst Course/files/Lending-Company-Total-Price.csv',delimiter=',')"
   ]
  },
  {
   "cell_type": "code",
   "execution_count": 102,
   "metadata": {},
   "outputs": [
    {
     "data": {
      "text/plain": [
       "array([[b'Id', b'StringID', b'Product', ..., b'Location', b'Region', b'TotalPrice'],\n",
       "       [b'10', b'id_10', b'Product A', ..., b'Location 13', b'Region 6', b'20250'],\n",
       "       [b'11', b'id_11', b'Product B', ..., b'Location 15', b'Region 2', b'16600'],\n",
       "       ...,\n",
       "       [b'398', b'id_398', b'Product A', ..., b'Location 29', b'Region 1', b'20250'],\n",
       "       [b'399', b'id_399', b'Product B', ..., b'Location 73', b'Region 4', b'16600'],\n",
       "       [b'400', b'id_400', b'Product B', ..., b'Location 53', b'Region 6', b'16600']], dtype='|S14')"
      ]
     },
     "execution_count": 102,
     "metadata": {},
     "output_type": "execute_result"
    }
   ],
   "source": [
    "np.genfromtxt('/Users/jakeabella/UDM-DATASCIENCE 001/Data Analyst Course/files/Lending-Company-Total-Price.csv',dtype='S',delimiter=',',autostrip='False',skip_footer=15,comments=\"#\")"
   ]
  },
  {
   "cell_type": "markdown",
   "metadata": {},
   "source": [
    "### 4. Using the arguments of the np.genfromtxt() function, do the following data cleaning:\n",
    "    A) Set the data type to strings. \n",
    "    B) Skip the first row of the dataset. \n",
    "    C) Skip the last 15 rows of the dataset. \n",
    "    D) Only pull data from the 2nd, 3rd and 5th columns. \n",
    "   (Note: You can do all of these at the same time.)"
   ]
  },
  {
   "cell_type": "code",
   "execution_count": null,
   "metadata": {},
   "outputs": [],
   "source": []
  },
  {
   "cell_type": "markdown",
   "metadata": {},
   "source": [
    "### 5. Refer to the documentation of the np.genfromtxt() function and examine the following arguments and what they do:\n",
    "    A) comments\n",
    "    B) converters \n",
    "    C) missing_values\n",
    "    D) excludelist\n",
    "    E) deletechars\n",
    "    D) replace_space \n",
    "    E) autostrip\n",
    "   (You're <b>not</b> expected to provide any coding for this part. The cell below is provided for your convenience in case you want to try using the arguments as you go through them.)"
   ]
  },
  {
   "cell_type": "code",
   "execution_count": null,
   "metadata": {},
   "outputs": [],
   "source": []
  },
  {
   "cell_type": "markdown",
   "metadata": {},
   "source": [
    "### 6. Now that you understand what these arguments do, add them to the code you wrote a few cells ago. \n",
    "    A) comments\n",
    "    B) converters \n",
    "    C) missing_values\n",
    "    D) excludelist\n",
    "    E) deletechars\n",
    "    D) replace_space \n",
    "    E) autostrip\n",
    "   <b>Note</b>: If you don't know what values to set, just refer to the documentation and set the defaults. "
   ]
  },
  {
   "cell_type": "code",
   "execution_count": null,
   "metadata": {},
   "outputs": [],
   "source": []
  },
  {
   "cell_type": "markdown",
   "metadata": {},
   "source": [
    "### 7. The first and last columns were the only ones with numeric data, so let's import only them."
   ]
  },
  {
   "cell_type": "code",
   "execution_count": null,
   "metadata": {},
   "outputs": [],
   "source": []
  }
 ],
 "metadata": {
  "kernelspec": {
   "display_name": "Python 3 (ipykernel)",
   "language": "python",
   "name": "python3"
  },
  "language_info": {
   "codemirror_mode": {
    "name": "ipython",
    "version": 3
   },
   "file_extension": ".py",
   "mimetype": "text/x-python",
   "name": "python",
   "nbconvert_exporter": "python",
   "pygments_lexer": "ipython3",
   "version": "3.11.3"
  }
 },
 "nbformat": 4,
 "nbformat_minor": 2
}
