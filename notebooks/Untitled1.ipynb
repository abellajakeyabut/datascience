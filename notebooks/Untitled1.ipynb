{
 "cells": [
  {
   "cell_type": "code",
   "execution_count": 95,
   "id": "355c9b59",
   "metadata": {},
   "outputs": [],
   "source": [
    "fileName = \"/Users/jakeabella/UDM-DATASCIENCE 001/Data Analyst Course/files/sample.txt\"\n"
   ]
  },
  {
   "cell_type": "code",
   "execution_count": 96,
   "id": "82e14b2c",
   "metadata": {},
   "outputs": [
    {
     "data": {
      "text/plain": [
       "'/Users/jakeabella/UDM-DATASCIENCE 001/Data Analyst Course/files/sample.txt'"
      ]
     },
     "execution_count": 96,
     "metadata": {},
     "output_type": "execute_result"
    }
   ],
   "source": [
    "fileName\n"
   ]
  },
  {
   "cell_type": "code",
   "execution_count": 97,
   "id": "0c593c95",
   "metadata": {},
   "outputs": [],
   "source": [
    "file = open(fileName, mode = 'r')"
   ]
  },
  {
   "cell_type": "code",
   "execution_count": 98,
   "id": "f24fc084",
   "metadata": {},
   "outputs": [],
   "source": [
    "text = file.read()"
   ]
  },
  {
   "cell_type": "code",
   "execution_count": 99,
   "id": "5294b930",
   "metadata": {},
   "outputs": [
    {
     "data": {
      "text/plain": [
       "False"
      ]
     },
     "execution_count": 99,
     "metadata": {},
     "output_type": "execute_result"
    }
   ],
   "source": [
    "file.closed"
   ]
  },
  {
   "cell_type": "code",
   "execution_count": 100,
   "id": "5bda8344",
   "metadata": {},
   "outputs": [],
   "source": [
    "file.close()"
   ]
  },
  {
   "cell_type": "code",
   "execution_count": 101,
   "id": "426c7929",
   "metadata": {},
   "outputs": [
    {
     "data": {
      "text/plain": [
       "'writing now\\nwriting again'"
      ]
     },
     "execution_count": 101,
     "metadata": {},
     "output_type": "execute_result"
    }
   ],
   "source": [
    "text"
   ]
  },
  {
   "cell_type": "code",
   "execution_count": 102,
   "id": "a4e869e1",
   "metadata": {},
   "outputs": [],
   "source": [
    "with open(fileName,mode = 'r') as out_file:\n",
    "     text = out_file.read();\n"
   ]
  },
  {
   "cell_type": "code",
   "execution_count": 103,
   "id": "b09b573e",
   "metadata": {},
   "outputs": [
    {
     "data": {
      "text/plain": [
       "'writing now\\nwriting again'"
      ]
     },
     "execution_count": 103,
     "metadata": {},
     "output_type": "execute_result"
    }
   ],
   "source": [
    "text\n"
   ]
  },
  {
   "cell_type": "code",
   "execution_count": 104,
   "id": "ab913b5a",
   "metadata": {},
   "outputs": [],
   "source": [
    "with open(fileName,mode = 'w') as in_file:\n",
    "    in_file.write(\"writing now\\n\")\n",
    "    in_file.write('writing again')\n",
    "\n",
    "\n"
   ]
  },
  {
   "cell_type": "code",
   "execution_count": 105,
   "id": "81d4721a",
   "metadata": {},
   "outputs": [
    {
     "data": {
      "text/plain": [
       "'writing now\\nwriting again'"
      ]
     },
     "execution_count": 105,
     "metadata": {},
     "output_type": "execute_result"
    }
   ],
   "source": [
    "text"
   ]
  },
  {
   "cell_type": "code",
   "execution_count": 107,
   "id": "1cd10cd2",
   "metadata": {},
   "outputs": [],
   "source": [
    "csvFile = \"/Users/jakeabella/UDM-DATASCIENCE 001/Data Analyst Course/files/Lending-company.csv\""
   ]
  },
  {
   "cell_type": "code",
   "execution_count": 109,
   "id": "d3d7aa41",
   "metadata": {},
   "outputs": [],
   "source": [
    "import pandas as pd;\n"
   ]
  },
  {
   "cell_type": "code",
   "execution_count": 110,
   "id": "d6e7a2d9",
   "metadata": {},
   "outputs": [],
   "source": [
    "csvContents = pd.read_csv(csvFile)"
   ]
  },
  {
   "cell_type": "code",
   "execution_count": 111,
   "id": "f086ea9b",
   "metadata": {},
   "outputs": [
    {
     "data": {
      "text/plain": [
       "pandas.core.frame.DataFrame"
      ]
     },
     "execution_count": 111,
     "metadata": {},
     "output_type": "execute_result"
    }
   ],
   "source": [
    "type(csvContents)"
   ]
  },
  {
   "cell_type": "code",
   "execution_count": 113,
   "id": "c77da2fb",
   "metadata": {
    "scrolled": true
   },
   "outputs": [
    {
     "data": {
      "text/html": [
       "<div>\n",
       "<style scoped>\n",
       "    .dataframe tbody tr th:only-of-type {\n",
       "        vertical-align: middle;\n",
       "    }\n",
       "\n",
       "    .dataframe tbody tr th {\n",
       "        vertical-align: top;\n",
       "    }\n",
       "\n",
       "    .dataframe thead th {\n",
       "        text-align: right;\n",
       "    }\n",
       "</style>\n",
       "<table border=\"1\" class=\"dataframe\">\n",
       "  <thead>\n",
       "    <tr style=\"text-align: right;\">\n",
       "      <th></th>\n",
       "      <th>LoanID</th>\n",
       "      <th>StringID</th>\n",
       "      <th>Product</th>\n",
       "      <th>CustomerGender</th>\n",
       "      <th>Location</th>\n",
       "      <th>Region</th>\n",
       "      <th>TotalPrice</th>\n",
       "      <th>StartDate</th>\n",
       "      <th>Deposit</th>\n",
       "      <th>DailyRate</th>\n",
       "      <th>TotalDaysYr</th>\n",
       "      <th>AmtPaid36</th>\n",
       "      <th>AmtPaid60</th>\n",
       "      <th>AmtPaid360</th>\n",
       "      <th>LoanStatus</th>\n",
       "    </tr>\n",
       "  </thead>\n",
       "  <tbody>\n",
       "    <tr>\n",
       "      <th>0</th>\n",
       "      <td>1</td>\n",
       "      <td>LoanID_1</td>\n",
       "      <td>Product B</td>\n",
       "      <td>Female</td>\n",
       "      <td>Location 3</td>\n",
       "      <td>Region 2</td>\n",
       "      <td>17600.0</td>\n",
       "      <td>04/07/2018</td>\n",
       "      <td>2200</td>\n",
       "      <td>45</td>\n",
       "      <td>365</td>\n",
       "      <td>3221</td>\n",
       "      <td>4166</td>\n",
       "      <td>14621</td>\n",
       "      <td>Active</td>\n",
       "    </tr>\n",
       "    <tr>\n",
       "      <th>1</th>\n",
       "      <td>2</td>\n",
       "      <td>LoanID_2</td>\n",
       "      <td>Product D</td>\n",
       "      <td>Female</td>\n",
       "      <td>Location 6</td>\n",
       "      <td>Region 6</td>\n",
       "      <td>NaN</td>\n",
       "      <td>02/01/2019</td>\n",
       "      <td>2200</td>\n",
       "      <td>45</td>\n",
       "      <td>365</td>\n",
       "      <td>3161</td>\n",
       "      <td>4096</td>\n",
       "      <td>16041</td>\n",
       "      <td>Active</td>\n",
       "    </tr>\n",
       "    <tr>\n",
       "      <th>2</th>\n",
       "      <td>3</td>\n",
       "      <td>LoanID_3</td>\n",
       "      <td>Product B</td>\n",
       "      <td>Male</td>\n",
       "      <td>Location 8</td>\n",
       "      <td>Region 3</td>\n",
       "      <td>16600.0</td>\n",
       "      <td>08/12/2016</td>\n",
       "      <td>1000</td>\n",
       "      <td>45</td>\n",
       "      <td>365</td>\n",
       "      <td>2260</td>\n",
       "      <td>3205</td>\n",
       "      <td>16340</td>\n",
       "      <td>NaN</td>\n",
       "    </tr>\n",
       "    <tr>\n",
       "      <th>3</th>\n",
       "      <td>4</td>\n",
       "      <td>LoanID_4</td>\n",
       "      <td>Product A</td>\n",
       "      <td>Male</td>\n",
       "      <td>Location 26</td>\n",
       "      <td>Region 2</td>\n",
       "      <td>17600.0</td>\n",
       "      <td>NaN</td>\n",
       "      <td>2200</td>\n",
       "      <td>45</td>\n",
       "      <td>365</td>\n",
       "      <td>3141</td>\n",
       "      <td>4166</td>\n",
       "      <td>16321</td>\n",
       "      <td>Active</td>\n",
       "    </tr>\n",
       "    <tr>\n",
       "      <th>4</th>\n",
       "      <td>5</td>\n",
       "      <td>LoanID_5</td>\n",
       "      <td>Product B</td>\n",
       "      <td>Female</td>\n",
       "      <td>Location 34</td>\n",
       "      <td>Region 3</td>\n",
       "      <td>21250.0</td>\n",
       "      <td>28/10/2017</td>\n",
       "      <td>2200</td>\n",
       "      <td>55</td>\n",
       "      <td>365</td>\n",
       "      <td>3570</td>\n",
       "      <td>4745</td>\n",
       "      <td>14720</td>\n",
       "      <td>Active</td>\n",
       "    </tr>\n",
       "    <tr>\n",
       "      <th>...</th>\n",
       "      <td>...</td>\n",
       "      <td>...</td>\n",
       "      <td>...</td>\n",
       "      <td>...</td>\n",
       "      <td>...</td>\n",
       "      <td>...</td>\n",
       "      <td>...</td>\n",
       "      <td>...</td>\n",
       "      <td>...</td>\n",
       "      <td>...</td>\n",
       "      <td>...</td>\n",
       "      <td>...</td>\n",
       "      <td>...</td>\n",
       "      <td>...</td>\n",
       "      <td>...</td>\n",
       "    </tr>\n",
       "    <tr>\n",
       "      <th>1038</th>\n",
       "      <td>1039</td>\n",
       "      <td>LoanID_1039</td>\n",
       "      <td>Product B</td>\n",
       "      <td>Male</td>\n",
       "      <td>Location 73</td>\n",
       "      <td>Region 6</td>\n",
       "      <td>17300.0</td>\n",
       "      <td>29/12/2018</td>\n",
       "      <td>2200</td>\n",
       "      <td>45</td>\n",
       "      <td>365</td>\n",
       "      <td>3251</td>\n",
       "      <td>4743</td>\n",
       "      <td>16617</td>\n",
       "      <td>Finished Payment</td>\n",
       "    </tr>\n",
       "    <tr>\n",
       "      <th>1039</th>\n",
       "      <td>1040</td>\n",
       "      <td>LoanID_1040</td>\n",
       "      <td>Product A</td>\n",
       "      <td>Male</td>\n",
       "      <td>Location 82</td>\n",
       "      <td>Region 1</td>\n",
       "      <td>NaN</td>\n",
       "      <td>28/03/2018</td>\n",
       "      <td>2200</td>\n",
       "      <td>45</td>\n",
       "      <td>365</td>\n",
       "      <td>4090</td>\n",
       "      <td>5582</td>\n",
       "      <td>16617</td>\n",
       "      <td>Finished Payment</td>\n",
       "    </tr>\n",
       "    <tr>\n",
       "      <th>1040</th>\n",
       "      <td>1041</td>\n",
       "      <td>LoanID_1041</td>\n",
       "      <td>Product A</td>\n",
       "      <td>NotSpecified</td>\n",
       "      <td>Location 11</td>\n",
       "      <td>Region 4</td>\n",
       "      <td>17300.0</td>\n",
       "      <td>26/04/2018</td>\n",
       "      <td>2200</td>\n",
       "      <td>45</td>\n",
       "      <td>365</td>\n",
       "      <td>4051</td>\n",
       "      <td>5143</td>\n",
       "      <td>16617</td>\n",
       "      <td>Finished Payment</td>\n",
       "    </tr>\n",
       "    <tr>\n",
       "      <th>1041</th>\n",
       "      <td>1042</td>\n",
       "      <td>LoanID_1042</td>\n",
       "      <td>Product B</td>\n",
       "      <td>Female</td>\n",
       "      <td>Location 26</td>\n",
       "      <td>Region 6</td>\n",
       "      <td>16300.0</td>\n",
       "      <td>25/10/2016</td>\n",
       "      <td>1000</td>\n",
       "      <td>45</td>\n",
       "      <td>365</td>\n",
       "      <td>1930</td>\n",
       "      <td>3462</td>\n",
       "      <td>15617</td>\n",
       "      <td>Finished Payment</td>\n",
       "    </tr>\n",
       "    <tr>\n",
       "      <th>1042</th>\n",
       "      <td>1043</td>\n",
       "      <td>LoanID_1043</td>\n",
       "      <td>Product A</td>\n",
       "      <td>NotSpecified</td>\n",
       "      <td>Location 94</td>\n",
       "      <td>Region 6</td>\n",
       "      <td>17300.0</td>\n",
       "      <td>15/05/2019</td>\n",
       "      <td>2200</td>\n",
       "      <td>45</td>\n",
       "      <td>365</td>\n",
       "      <td>4451</td>\n",
       "      <td>4743</td>\n",
       "      <td>16617</td>\n",
       "      <td>Finished Payment</td>\n",
       "    </tr>\n",
       "  </tbody>\n",
       "</table>\n",
       "<p>1043 rows × 15 columns</p>\n",
       "</div>"
      ],
      "text/plain": [
       "      LoanID     StringID    Product CustomerGender     Location    Region  \\\n",
       "0          1     LoanID_1  Product B         Female   Location 3  Region 2   \n",
       "1          2     LoanID_2  Product D         Female   Location 6  Region 6   \n",
       "2          3     LoanID_3  Product B           Male   Location 8  Region 3   \n",
       "3          4     LoanID_4  Product A           Male  Location 26  Region 2   \n",
       "4          5     LoanID_5  Product B         Female  Location 34  Region 3   \n",
       "...      ...          ...        ...            ...          ...       ...   \n",
       "1038    1039  LoanID_1039  Product B           Male  Location 73  Region 6   \n",
       "1039    1040  LoanID_1040  Product A           Male  Location 82  Region 1   \n",
       "1040    1041  LoanID_1041  Product A   NotSpecified  Location 11  Region 4   \n",
       "1041    1042  LoanID_1042  Product B         Female  Location 26  Region 6   \n",
       "1042    1043  LoanID_1043  Product A   NotSpecified  Location 94  Region 6   \n",
       "\n",
       "      TotalPrice   StartDate  Deposit  DailyRate  TotalDaysYr  AmtPaid36  \\\n",
       "0        17600.0  04/07/2018     2200         45          365       3221   \n",
       "1            NaN  02/01/2019     2200         45          365       3161   \n",
       "2        16600.0  08/12/2016     1000         45          365       2260   \n",
       "3        17600.0         NaN     2200         45          365       3141   \n",
       "4        21250.0  28/10/2017     2200         55          365       3570   \n",
       "...          ...         ...      ...        ...          ...        ...   \n",
       "1038     17300.0  29/12/2018     2200         45          365       3251   \n",
       "1039         NaN  28/03/2018     2200         45          365       4090   \n",
       "1040     17300.0  26/04/2018     2200         45          365       4051   \n",
       "1041     16300.0  25/10/2016     1000         45          365       1930   \n",
       "1042     17300.0  15/05/2019     2200         45          365       4451   \n",
       "\n",
       "      AmtPaid60  AmtPaid360        LoanStatus  \n",
       "0          4166       14621            Active  \n",
       "1          4096       16041            Active  \n",
       "2          3205       16340               NaN  \n",
       "3          4166       16321            Active  \n",
       "4          4745       14720            Active  \n",
       "...         ...         ...               ...  \n",
       "1038       4743       16617  Finished Payment  \n",
       "1039       5582       16617  Finished Payment  \n",
       "1040       5143       16617  Finished Payment  \n",
       "1041       3462       15617  Finished Payment  \n",
       "1042       4743       16617  Finished Payment  \n",
       "\n",
       "[1043 rows x 15 columns]"
      ]
     },
     "execution_count": 113,
     "metadata": {},
     "output_type": "execute_result"
    }
   ],
   "source": [
    "csvContents"
   ]
  },
  {
   "cell_type": "code",
   "execution_count": 117,
   "id": "02537e2c",
   "metadata": {},
   "outputs": [],
   "source": [
    "import numpy as np"
   ]
  },
  {
   "cell_type": "code",
   "execution_count": 125,
   "id": "676d6dab",
   "metadata": {},
   "outputs": [],
   "source": [
    "np_data = np.loadtxt(\"/Users/jakeabella/UDM-DATASCIENCE 001/Data Analyst Course/files/Lending-Company-Numeric-Data.csv\",delimiter=\",\")"
   ]
  },
  {
   "cell_type": "code",
   "execution_count": 126,
   "id": "61eb91cb",
   "metadata": {},
   "outputs": [
    {
     "data": {
      "text/plain": [
       "numpy.ndarray"
      ]
     },
     "execution_count": 126,
     "metadata": {},
     "output_type": "execute_result"
    }
   ],
   "source": [
    "type(np_data)"
   ]
  },
  {
   "cell_type": "code",
   "execution_count": 128,
   "id": "467f7c17",
   "metadata": {},
   "outputs": [
    {
     "data": {
      "text/plain": [
       "array([[ 2000.,    40.,   365.,  3121.,  4241., 13621.],\n",
       "       [ 2000.,    40.,   365.,  3061.,  4171., 15041.],\n",
       "       [ 1000.,    40.,   365.,  2160.,  3280., 15340.],\n",
       "       ...,\n",
       "       [ 2000.,    40.,   365.,  4201.,  5001., 16600.],\n",
       "       [ 1000.,    40.,   365.,  2080.,  3320., 15600.],\n",
       "       [ 2000.,    40.,   365.,  4601.,  4601., 16600.]])"
      ]
     },
     "execution_count": 128,
     "metadata": {},
     "output_type": "execute_result"
    }
   ],
   "source": [
    "np_data"
   ]
  },
  {
   "cell_type": "code",
   "execution_count": 139,
   "id": "ed49ae94",
   "metadata": {},
   "outputs": [
    {
     "data": {
      "text/plain": [
       "array([[b'2000', b'40', b'365', b'3121', b'4241', b'13621'],\n",
       "       [b'2000', b'40', b'365', b'3061', b'4171', b'15041'],\n",
       "       [b'1000', b'40', b'365', b'2160', b'3280', b'15340'],\n",
       "       ...,\n",
       "       [b'', b'40', b'365', b'4201', b'5001', b'16600'],\n",
       "       [b'1000', b'40', b'365', b'2080', b'3320', b'15600'],\n",
       "       [b'2000', b'40', b'365', b'4601', b'4601', b'16600']], dtype='|S5')"
      ]
     },
     "execution_count": 139,
     "metadata": {},
     "output_type": "execute_result"
    }
   ],
   "source": [
    "np.genfromtxt(\"/Users/jakeabella/UDM-DATASCIENCE 001/Data Analyst Course/files/Lending-Company-Numeric-Data-NAN.csv\",delimiter=\";\", dtype= 'S')"
   ]
  },
  {
   "cell_type": "code",
   "execution_count": 152,
   "id": "c9029ee1",
   "metadata": {},
   "outputs": [],
   "source": [
    "col_5,col_0,col_1 = np.genfromtxt(\"/Users/jakeabella/UDM-DATASCIENCE 001/Data Analyst Course/files/Lending-Company-Numeric-Data-NAN.csv\",delimiter=\";\",usecols=(5,0,1),skip_header=2,skip_footer=2,unpack=True)"
   ]
  },
  {
   "cell_type": "code",
   "execution_count": 153,
   "id": "35803d44",
   "metadata": {},
   "outputs": [
    {
     "data": {
      "text/plain": [
       "array([15340., 15321., 13720., ..., 16600., 16600., 16600.])"
      ]
     },
     "execution_count": 153,
     "metadata": {},
     "output_type": "execute_result"
    }
   ],
   "source": [
    "col_5"
   ]
  },
  {
   "cell_type": "code",
   "execution_count": 154,
   "id": "78a73792",
   "metadata": {},
   "outputs": [
    {
     "data": {
      "text/plain": [
       "array([1000., 2000., 2000., ..., 2000., 2000.,   nan])"
      ]
     },
     "execution_count": 154,
     "metadata": {},
     "output_type": "execute_result"
    }
   ],
   "source": [
    "col_0"
   ]
  },
  {
   "cell_type": "code",
   "execution_count": 156,
   "id": "9557a6df",
   "metadata": {},
   "outputs": [
    {
     "data": {
      "text/plain": [
       "array([40., 40., 50., ..., 40., 40., 40.])"
      ]
     },
     "execution_count": 156,
     "metadata": {},
     "output_type": "execute_result"
    }
   ],
   "source": [
    "col_1"
   ]
  },
  {
   "cell_type": "code",
   "execution_count": 151,
   "id": "fba3c5b7",
   "metadata": {},
   "outputs": [
    {
     "data": {
      "text/plain": [
       "array([[15340.,  1000.,    40.],\n",
       "       [15321.,  2000.,    40.],\n",
       "       [13720.,  2000.,    50.],\n",
       "       ...,\n",
       "       [16600.,  2000.,    40.],\n",
       "       [16600.,  2000.,    40.],\n",
       "       [16600.,    nan,    40.]])"
      ]
     },
     "execution_count": 151,
     "metadata": {},
     "output_type": "execute_result"
    }
   ],
   "source": [
    "np_data_selective"
   ]
  },
  {
   "cell_type": "code",
   "execution_count": null,
   "id": "5663d00a",
   "metadata": {},
   "outputs": [],
   "source": []
  },
  {
   "cell_type": "code",
   "execution_count": null,
   "id": "6f9a2498",
   "metadata": {},
   "outputs": [],
   "source": []
  },
  {
   "cell_type": "code",
   "execution_count": 149,
   "id": "949650d4",
   "metadata": {},
   "outputs": [
    {
     "data": {
      "text/plain": [
       "array([[15340.,  1000.,    40.],\n",
       "       [15321.,  2000.,    40.],\n",
       "       [13720.,  2000.,    50.],\n",
       "       ...,\n",
       "       [16600.,    nan,    40.],\n",
       "       [15600.,  1000.,    40.],\n",
       "       [16600.,  2000.,    40.]])"
      ]
     },
     "execution_count": 149,
     "metadata": {},
     "output_type": "execute_result"
    }
   ],
   "source": [
    "np_data_selective"
   ]
  },
  {
   "cell_type": "code",
   "execution_count": null,
   "id": "387c73e0",
   "metadata": {},
   "outputs": [],
   "source": []
  },
  {
   "cell_type": "code",
   "execution_count": null,
   "id": "59da37dc",
   "metadata": {},
   "outputs": [],
   "source": []
  },
  {
   "cell_type": "code",
   "execution_count": null,
   "id": "b10bab5e",
   "metadata": {},
   "outputs": [],
   "source": []
  },
  {
   "cell_type": "code",
   "execution_count": null,
   "id": "bafd5c41",
   "metadata": {},
   "outputs": [],
   "source": []
  },
  {
   "cell_type": "code",
   "execution_count": null,
   "id": "eb04b1d9",
   "metadata": {},
   "outputs": [],
   "source": []
  },
  {
   "cell_type": "code",
   "execution_count": null,
   "id": "89c5301c",
   "metadata": {},
   "outputs": [],
   "source": []
  },
  {
   "cell_type": "code",
   "execution_count": null,
   "id": "9fca00f0",
   "metadata": {},
   "outputs": [],
   "source": []
  },
  {
   "cell_type": "code",
   "execution_count": null,
   "id": "2351ceb3",
   "metadata": {},
   "outputs": [],
   "source": []
  }
 ],
 "metadata": {
  "kernelspec": {
   "display_name": "Python 3 (ipykernel)",
   "language": "python",
   "name": "python3"
  },
  "language_info": {
   "codemirror_mode": {
    "name": "ipython",
    "version": 3
   },
   "file_extension": ".py",
   "mimetype": "text/x-python",
   "name": "python",
   "nbconvert_exporter": "python",
   "pygments_lexer": "ipython3",
   "version": "3.11.3"
  }
 },
 "nbformat": 4,
 "nbformat_minor": 5
}
