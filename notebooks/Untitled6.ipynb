{
 "cells": [
  {
   "cell_type": "code",
   "execution_count": 3,
   "id": "06709e17",
   "metadata": {},
   "outputs": [],
   "source": [
    "import numpy as np\n"
   ]
  },
  {
   "cell_type": "code",
   "execution_count": 32,
   "id": "27dd1166",
   "metadata": {},
   "outputs": [],
   "source": [
    "lending_co_lt = np.genfromtxt(\"/Users/jakeabella/DataScience-GIT/datascience/resources/lending-co-LT.csv\",\n",
    "                              delimiter=',',\n",
    "                              dtype=('int32','str','str','str','str','str','int32'))"
   ]
  },
  {
   "cell_type": "code",
   "execution_count": 20,
   "id": "804908e8",
   "metadata": {},
   "outputs": [
    {
     "data": {
      "text/plain": [
       "numpy.ndarray"
      ]
     },
     "execution_count": 20,
     "metadata": {},
     "output_type": "execute_result"
    }
   ],
   "source": [
    "type(lending_co_lt)"
   ]
  },
  {
   "cell_type": "code",
   "execution_count": 33,
   "id": "bf8d65f0",
   "metadata": {},
   "outputs": [
    {
     "data": {
      "text/plain": [
       "array([(  -1, '', '', '', '', '',    -1),\n",
       "       (   1, '', '', '', '', '', 16600),\n",
       "       (   2, '', '', '', '', '', 16600), ...,\n",
       "       (1041, '', '', '', '', '', 16600),\n",
       "       (1042, '', '', '', '', '', 15600),\n",
       "       (1043, '', '', '', '', '', 16600)],\n",
       "      dtype=[('f0', '<i4'), ('f1', '<U'), ('f2', '<U'), ('f3', '<U'), ('f4', '<U'), ('f5', '<U'), ('f6', '<i4')])"
      ]
     },
     "execution_count": 33,
     "metadata": {},
     "output_type": "execute_result"
    }
   ],
   "source": [
    "lending_co_lt"
   ]
  },
  {
   "cell_type": "code",
   "execution_count": null,
   "id": "9c825177",
   "metadata": {},
   "outputs": [],
   "source": []
  }
 ],
 "metadata": {
  "kernelspec": {
   "display_name": "Python 3 (ipykernel)",
   "language": "python",
   "name": "python3"
  },
  "language_info": {
   "codemirror_mode": {
    "name": "ipython",
    "version": 3
   },
   "file_extension": ".py",
   "mimetype": "text/x-python",
   "name": "python",
   "nbconvert_exporter": "python",
   "pygments_lexer": "ipython3",
   "version": "3.11.3"
  }
 },
 "nbformat": 4,
 "nbformat_minor": 5
}
