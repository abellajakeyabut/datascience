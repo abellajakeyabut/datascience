{
 "cells": [
  {
   "cell_type": "markdown",
   "id": "07b13643",
   "metadata": {},
   "source": [
    "Create a list called 'employee_names', which should contain the following names:\n",
    "\n",
    "Amy White\n",
    "\n",
    "Jack Stewart\n",
    "\n",
    "Richard Lauderdale\n",
    "\n",
    "Sara Johnson\n",
    "\n",
    "\n",
    "\n"
   ]
  },
  {
   "cell_type": "code",
   "execution_count": 6,
   "id": "de868bdf",
   "metadata": {},
   "outputs": [],
   "source": [
    "import pandas as pd;"
   ]
  },
  {
   "cell_type": "code",
   "execution_count": 7,
   "id": "7385ce27",
   "metadata": {},
   "outputs": [],
   "source": [
    "employee_names = ['Amy White', 'Jack Stewart', 'Richart Lauderdale','Sara Johnson']"
   ]
  },
  {
   "cell_type": "code",
   "execution_count": 10,
   "id": "31aba677",
   "metadata": {},
   "outputs": [
    {
     "data": {
      "text/plain": [
       "['Amy White', 'Jack Stewart', 'Richart Lauderdale', 'Sara Johnson']"
      ]
     },
     "execution_count": 10,
     "metadata": {},
     "output_type": "execute_result"
    }
   ],
   "source": [
    "employee_names"
   ]
  },
  {
   "cell_type": "code",
   "execution_count": 15,
   "id": "025564f6",
   "metadata": {},
   "outputs": [
    {
     "data": {
      "text/plain": [
       "list"
      ]
     },
     "execution_count": 15,
     "metadata": {},
     "output_type": "execute_result"
    }
   ],
   "source": [
    "type(employee_names)"
   ]
  },
  {
   "cell_type": "markdown",
   "id": "03e9da62",
   "metadata": {},
   "source": [
    "Convert the list employee_names into a Panda Series"
   ]
  },
  {
   "cell_type": "code",
   "execution_count": 48,
   "id": "aef492e5",
   "metadata": {},
   "outputs": [],
   "source": [
    "employee_names_series = pd.Series(employee_names)"
   ]
  },
  {
   "cell_type": "code",
   "execution_count": 49,
   "id": "bdbf32be",
   "metadata": {},
   "outputs": [
    {
     "data": {
      "text/plain": [
       "0             Amy White\n",
       "1          Jack Stewart\n",
       "2    Richart Lauderdale\n",
       "3          Sara Johnson\n",
       "dtype: object"
      ]
     },
     "execution_count": 49,
     "metadata": {},
     "output_type": "execute_result"
    }
   ],
   "source": [
    "employee_names_series"
   ]
  },
  {
   "cell_type": "markdown",
   "id": "2e4a73ef",
   "metadata": {},
   "source": [
    "Add number index number to list. You can add row numbers to a series by setting a list of indeces as you create the series\n",
    "\n",
    "pd.Series(employee_names,[0,1,2,3])"
   ]
  },
  {
   "cell_type": "code",
   "execution_count": 55,
   "id": "b13f2073",
   "metadata": {},
   "outputs": [
    {
     "data": {
      "text/plain": [
       "0             Amy White\n",
       "1          Jack Stewart\n",
       "2    Richart Lauderdale\n",
       "3          Sara Johnson\n",
       "dtype: object"
      ]
     },
     "execution_count": 55,
     "metadata": {},
     "output_type": "execute_result"
    }
   ],
   "source": [
    "pd.Series(employee_names,[0,1,2,3])"
   ]
  },
  {
   "cell_type": "markdown",
   "id": "1d969cfc",
   "metadata": {},
   "source": [
    "Add dynamic index as row number\n"
   ]
  },
  {
   "cell_type": "code",
   "execution_count": 58,
   "id": "c41a0d79",
   "metadata": {},
   "outputs": [
    {
     "data": {
      "text/plain": [
       "1             Amy White\n",
       "2          Jack Stewart\n",
       "3    Richart Lauderdale\n",
       "4          Sara Johnson\n",
       "dtype: object"
      ]
     },
     "execution_count": 58,
     "metadata": {},
     "output_type": "execute_result"
    }
   ],
   "source": [
    "pd.Series(employee_names, range(1, len(employee_names)+1))"
   ]
  },
  {
   "cell_type": "markdown",
   "id": "7fe24822",
   "metadata": {},
   "source": [
    "Create a series directly"
   ]
  },
  {
   "cell_type": "code",
   "execution_count": 60,
   "id": "bb30856c",
   "metadata": {},
   "outputs": [],
   "source": [
    "work_experience = pd.Series([5,8,3,10])"
   ]
  },
  {
   "cell_type": "code",
   "execution_count": 61,
   "id": "3c681c10",
   "metadata": {},
   "outputs": [
    {
     "data": {
      "text/plain": [
       "0     5\n",
       "1     8\n",
       "2     3\n",
       "3    10\n",
       "dtype: int64"
      ]
     },
     "execution_count": 61,
     "metadata": {},
     "output_type": "execute_result"
    }
   ],
   "source": [
    "work_experience"
   ]
  },
  {
   "cell_type": "markdown",
   "id": "37c15106",
   "metadata": {},
   "source": [
    "create a numpy array"
   ]
  },
  {
   "cell_type": "code",
   "execution_count": 65,
   "id": "df43a90e",
   "metadata": {},
   "outputs": [],
   "source": [
    "import numpy as np;"
   ]
  },
  {
   "cell_type": "code",
   "execution_count": 70,
   "id": "051699d2",
   "metadata": {},
   "outputs": [],
   "source": [
    "array_1 =[50,53,35,43]"
   ]
  },
  {
   "cell_type": "code",
   "execution_count": 76,
   "id": "68ccaa3c",
   "metadata": {},
   "outputs": [],
   "source": [
    "array_age = np.array(array_1)"
   ]
  },
  {
   "cell_type": "code",
   "execution_count": 77,
   "id": "42ada115",
   "metadata": {},
   "outputs": [
    {
     "data": {
      "text/plain": [
       "array([50, 53, 35, 43])"
      ]
     },
     "execution_count": 77,
     "metadata": {},
     "output_type": "execute_result"
    }
   ],
   "source": [
    "array_age"
   ]
  },
  {
   "cell_type": "code",
   "execution_count": 79,
   "id": "b12033c6",
   "metadata": {},
   "outputs": [],
   "source": [
    "age_series = pd.Series(array_age)"
   ]
  },
  {
   "cell_type": "code",
   "execution_count": 80,
   "id": "394ba5ea",
   "metadata": {},
   "outputs": [
    {
     "data": {
      "text/plain": [
       "0    50\n",
       "1    53\n",
       "2    35\n",
       "3    43\n",
       "dtype: int64"
      ]
     },
     "execution_count": 80,
     "metadata": {},
     "output_type": "execute_result"
    }
   ],
   "source": [
    "age_series"
   ]
  },
  {
   "cell_type": "markdown",
   "id": "7d54e1ff",
   "metadata": {},
   "source": [
    "access series attributes\n"
   ]
  },
  {
   "cell_type": "code",
   "execution_count": 81,
   "id": "31d19c8c",
   "metadata": {},
   "outputs": [
    {
     "data": {
      "text/plain": [
       "dtype('int64')"
      ]
     },
     "execution_count": 81,
     "metadata": {},
     "output_type": "execute_result"
    }
   ],
   "source": [
    "age_series.dtype"
   ]
  },
  {
   "cell_type": "markdown",
   "id": "1a0b3784",
   "metadata": {},
   "source": [
    "age_series.size"
   ]
  },
  {
   "cell_type": "code",
   "execution_count": 83,
   "id": "132ad9ed",
   "metadata": {},
   "outputs": [
    {
     "data": {
      "text/plain": [
       "4"
      ]
     },
     "execution_count": 83,
     "metadata": {},
     "output_type": "execute_result"
    }
   ],
   "source": [
    "age_series.size"
   ]
  },
  {
   "cell_type": "code",
   "execution_count": 84,
   "id": "fd5ad75c",
   "metadata": {},
   "outputs": [],
   "source": [
    "age_series.name = \"age_series_name\""
   ]
  },
  {
   "cell_type": "code",
   "execution_count": 85,
   "id": "14029d82",
   "metadata": {},
   "outputs": [
    {
     "data": {
      "text/plain": [
       "0    50\n",
       "1    53\n",
       "2    35\n",
       "3    43\n",
       "Name: age_series_name, dtype: int64"
      ]
     },
     "execution_count": 85,
     "metadata": {},
     "output_type": "execute_result"
    }
   ],
   "source": [
    "age_series"
   ]
  },
  {
   "cell_type": "markdown",
   "id": "d4b9e76b",
   "metadata": {},
   "source": [
    "age_series.name"
   ]
  },
  {
   "cell_type": "markdown",
   "id": "17744907",
   "metadata": {},
   "source": [
    "Convert Series to numpy array\n"
   ]
  },
  {
   "cell_type": "code",
   "execution_count": 89,
   "id": "3c689e7b",
   "metadata": {},
   "outputs": [
    {
     "data": {
      "text/plain": [
       "array([50, 53, 35, 43])"
      ]
     },
     "execution_count": 89,
     "metadata": {},
     "output_type": "execute_result"
    }
   ],
   "source": [
    "age_series.to_numpy()"
   ]
  },
  {
   "cell_type": "code",
   "execution_count": 93,
   "id": "58f83206",
   "metadata": {},
   "outputs": [
    {
     "name": "stdout",
     "output_type": "stream",
     "text": [
      "<class 'numpy.ndarray'>\n"
     ]
    }
   ],
   "source": [
    "print(type(age_series.to_numpy()))"
   ]
  },
  {
   "cell_type": "code",
   "execution_count": 102,
   "id": "dade4018",
   "metadata": {},
   "outputs": [],
   "source": [
    "work_experience.name = \"Work Experience (Yrs.)\""
   ]
  },
  {
   "cell_type": "markdown",
   "id": "eb3b920a",
   "metadata": {},
   "source": [
    "Prices Per Category Dictionary to a Series\n"
   ]
  },
  {
   "cell_type": "code",
   "execution_count": 97,
   "id": "52a7a486",
   "metadata": {},
   "outputs": [],
   "source": [
    "prices_per_category = {'Product A' : 22250, 'Product B' : 16600, 'Product C' : 15600}"
   ]
  },
  {
   "cell_type": "code",
   "execution_count": 98,
   "id": "ee36d554",
   "metadata": {},
   "outputs": [
    {
     "data": {
      "text/plain": [
       "{'Product A': 22250, 'Product B': 16600, 'Product C': 15600}"
      ]
     },
     "execution_count": 98,
     "metadata": {},
     "output_type": "execute_result"
    }
   ],
   "source": [
    "prices_per_category"
   ]
  },
  {
   "cell_type": "code",
   "execution_count": 100,
   "id": "c5b5fde3",
   "metadata": {},
   "outputs": [],
   "source": [
    "category_series = pd.Series(prices_per_category)"
   ]
  },
  {
   "cell_type": "code",
   "execution_count": 101,
   "id": "fc7fe740",
   "metadata": {},
   "outputs": [
    {
     "data": {
      "text/plain": [
       "Product A    22250\n",
       "Product B    16600\n",
       "Product C    15600\n",
       "dtype: int64"
      ]
     },
     "execution_count": 101,
     "metadata": {},
     "output_type": "execute_result"
    }
   ],
   "source": [
    "category_series"
   ]
  },
  {
   "cell_type": "code",
   "execution_count": 113,
   "id": "a1363ecb",
   "metadata": {},
   "outputs": [
    {
     "data": {
      "text/plain": [
       "pandas.core.indexes.base.Index"
      ]
     },
     "execution_count": 113,
     "metadata": {},
     "output_type": "execute_result"
    }
   ],
   "source": [
    "type(category_series.index)"
   ]
  },
  {
   "cell_type": "markdown",
   "id": "abbc8594",
   "metadata": {},
   "source": [
    "Accessing indexes\n"
   ]
  },
  {
   "cell_type": "code",
   "execution_count": 107,
   "id": "ce835ceb",
   "metadata": {},
   "outputs": [
    {
     "data": {
      "text/plain": [
       "16600"
      ]
     },
     "execution_count": 107,
     "metadata": {},
     "output_type": "execute_result"
    }
   ],
   "source": [
    "category_series[\"Product B\"]"
   ]
  },
  {
   "cell_type": "code",
   "execution_count": 109,
   "id": "6081fb39",
   "metadata": {},
   "outputs": [
    {
     "data": {
      "text/plain": [
       "22250"
      ]
     },
     "execution_count": 109,
     "metadata": {},
     "output_type": "execute_result"
    }
   ],
   "source": [
    "category_series[\"Product A\"]"
   ]
  },
  {
   "cell_type": "code",
   "execution_count": 110,
   "id": "0dee034c",
   "metadata": {},
   "outputs": [
    {
     "data": {
      "text/plain": [
       "22250"
      ]
     },
     "execution_count": 110,
     "metadata": {},
     "output_type": "execute_result"
    }
   ],
   "source": [
    "category_series[0]"
   ]
  },
  {
   "cell_type": "code",
   "execution_count": 111,
   "id": "0456c50a",
   "metadata": {},
   "outputs": [
    {
     "data": {
      "text/plain": [
       "15600"
      ]
     },
     "execution_count": 111,
     "metadata": {},
     "output_type": "execute_result"
    }
   ],
   "source": [
    "category_series[2]"
   ]
  },
  {
   "cell_type": "code",
   "execution_count": 115,
   "id": "51604b56",
   "metadata": {},
   "outputs": [],
   "source": [
    "workers_age = {'Amy White' : 40, 'Jack Stewart' : 53, 'Richard Lauderdale' : 35, 'Sara Johnson' : 43}"
   ]
  },
  {
   "cell_type": "code",
   "execution_count": 117,
   "id": "76a98d08",
   "metadata": {},
   "outputs": [
    {
     "data": {
      "text/plain": [
       "{'Amy White': 40,\n",
       " 'Jack Stewart': 53,\n",
       " 'Richard Lauderdale': 35,\n",
       " 'Sara Johnson': 43}"
      ]
     },
     "execution_count": 117,
     "metadata": {},
     "output_type": "execute_result"
    }
   ],
   "source": [
    "workers_age"
   ]
  },
  {
   "cell_type": "code",
   "execution_count": 119,
   "id": "e5e98a61",
   "metadata": {},
   "outputs": [],
   "source": [
    "workers_age_series = pd.Series(workers_age)"
   ]
  },
  {
   "cell_type": "code",
   "execution_count": 121,
   "id": "b12142ee",
   "metadata": {},
   "outputs": [
    {
     "data": {
      "text/plain": [
       "Amy White             40\n",
       "Jack Stewart          53\n",
       "Richard Lauderdale    35\n",
       "Sara Johnson          43\n",
       "dtype: int64"
      ]
     },
     "execution_count": 121,
     "metadata": {},
     "output_type": "execute_result"
    }
   ],
   "source": [
    "workers_age_series"
   ]
  },
  {
   "cell_type": "code",
   "execution_count": 122,
   "id": "3f6cf48d",
   "metadata": {},
   "outputs": [
    {
     "data": {
      "text/plain": [
       "Index(['Amy White', 'Jack Stewart', 'Richard Lauderdale', 'Sara Johnson'], dtype='object')"
      ]
     },
     "execution_count": 122,
     "metadata": {},
     "output_type": "execute_result"
    }
   ],
   "source": [
    "workers_age_series.index"
   ]
  },
  {
   "cell_type": "code",
   "execution_count": 126,
   "id": "2567aea6",
   "metadata": {},
   "outputs": [
    {
     "data": {
      "text/plain": [
       "Index(['Amy White', 'Jack Stewart', 'Richard Lauderdale', 'Sara Johnson'], dtype='object')"
      ]
     },
     "execution_count": 126,
     "metadata": {},
     "output_type": "execute_result"
    }
   ],
   "source": [
    "workers_age_series.index"
   ]
  },
  {
   "cell_type": "code",
   "execution_count": 127,
   "id": "f04d283d",
   "metadata": {},
   "outputs": [
    {
     "data": {
      "text/plain": [
       "pandas.core.indexes.base.Index"
      ]
     },
     "execution_count": 127,
     "metadata": {},
     "output_type": "execute_result"
    }
   ],
   "source": [
    "type(workers_age_series.index)"
   ]
  },
  {
   "cell_type": "code",
   "execution_count": 129,
   "id": "615beaef",
   "metadata": {},
   "outputs": [],
   "source": [
    "employees_work_exp = pd.Series({\"Martin\" : 8, \"George\" : 5})"
   ]
  },
  {
   "cell_type": "code",
   "execution_count": 132,
   "id": "a21cb228",
   "metadata": {},
   "outputs": [
    {
     "name": "stdout",
     "output_type": "stream",
     "text": [
      "Martin    8\n",
      "George    5\n",
      "dtype: int64\n"
     ]
    }
   ],
   "source": [
    "print(employees_work_exp)"
   ]
  },
  {
   "cell_type": "code",
   "execution_count": 135,
   "id": "31a059ae",
   "metadata": {},
   "outputs": [
    {
     "data": {
      "text/plain": [
       "8"
      ]
     },
     "execution_count": 135,
     "metadata": {},
     "output_type": "execute_result"
    }
   ],
   "source": [
    "employees_work_exp[0]"
   ]
  },
  {
   "cell_type": "code",
   "execution_count": 137,
   "id": "3c3f7e8a",
   "metadata": {},
   "outputs": [],
   "source": [
    "age_array = np.array([44,54,65,35])"
   ]
  },
  {
   "cell_type": "code",
   "execution_count": 139,
   "id": "916c936a",
   "metadata": {},
   "outputs": [],
   "source": [
    "series_age = pd.Series(age_array)"
   ]
  },
  {
   "cell_type": "code",
   "execution_count": 140,
   "id": "29448a31",
   "metadata": {},
   "outputs": [
    {
     "data": {
      "text/plain": [
       "0    44\n",
       "1    54\n",
       "2    65\n",
       "3    35\n",
       "dtype: int64"
      ]
     },
     "execution_count": 140,
     "metadata": {},
     "output_type": "execute_result"
    }
   ],
   "source": [
    "series_age"
   ]
  },
  {
   "cell_type": "markdown",
   "id": "9b69ef26",
   "metadata": {},
   "source": [
    "Functions\n"
   ]
  },
  {
   "cell_type": "code",
   "execution_count": 141,
   "id": "fa52e00e",
   "metadata": {},
   "outputs": [
    {
     "data": {
      "text/plain": [
       "198"
      ]
     },
     "execution_count": 141,
     "metadata": {},
     "output_type": "execute_result"
    }
   ],
   "source": [
    "series_age.sum()"
   ]
  },
  {
   "cell_type": "code",
   "execution_count": 142,
   "id": "68432d56",
   "metadata": {},
   "outputs": [
    {
     "data": {
      "text/plain": [
       "35"
      ]
     },
     "execution_count": 142,
     "metadata": {},
     "output_type": "execute_result"
    }
   ],
   "source": [
    "series_age.min()"
   ]
  },
  {
   "cell_type": "code",
   "execution_count": 143,
   "id": "aa474e90",
   "metadata": {},
   "outputs": [
    {
     "data": {
      "text/plain": [
       "65"
      ]
     },
     "execution_count": 143,
     "metadata": {},
     "output_type": "execute_result"
    }
   ],
   "source": [
    "series_age.max()"
   ]
  },
  {
   "cell_type": "code",
   "execution_count": 146,
   "id": "4231219c",
   "metadata": {},
   "outputs": [
    {
     "data": {
      "text/plain": [
       "'Martin'"
      ]
     },
     "execution_count": 146,
     "metadata": {},
     "output_type": "execute_result"
    }
   ],
   "source": [
    "employees_work_exp.idxmax()\n"
   ]
  },
  {
   "cell_type": "code",
   "execution_count": 149,
   "id": "63eb6969",
   "metadata": {},
   "outputs": [
    {
     "data": {
      "text/plain": [
       "2"
      ]
     },
     "execution_count": 149,
     "metadata": {},
     "output_type": "execute_result"
    }
   ],
   "source": [
    "series_age.idxmax()"
   ]
  },
  {
   "cell_type": "markdown",
   "id": "4bc88324",
   "metadata": {},
   "source": [
    "above shows the index of the highest value in collection (idxmax)"
   ]
  },
  {
   "cell_type": "code",
   "execution_count": 148,
   "id": "c0a2c235",
   "metadata": {},
   "outputs": [
    {
     "data": {
      "text/plain": [
       "3"
      ]
     },
     "execution_count": 148,
     "metadata": {},
     "output_type": "execute_result"
    }
   ],
   "source": [
    "series_age.idxmin()"
   ]
  },
  {
   "cell_type": "markdown",
   "id": "a877e05c",
   "metadata": {},
   "source": [
    "shows minimum value of the collection/series age"
   ]
  },
  {
   "cell_type": "markdown",
   "id": "1f9bd307",
   "metadata": {},
   "source": [
    "pandas non-mathematical methods\n"
   ]
  },
  {
   "cell_type": "markdown",
   "id": "4f1b7200",
   "metadata": {},
   "source": [
    "head(N) = will return the first (N) data of the series\n"
   ]
  },
  {
   "cell_type": "code",
   "execution_count": 150,
   "id": "79004d39",
   "metadata": {},
   "outputs": [
    {
     "data": {
      "text/plain": [
       "0    44\n",
       "1    54\n",
       "dtype: int64"
      ]
     },
     "execution_count": 150,
     "metadata": {},
     "output_type": "execute_result"
    }
   ],
   "source": [
    "series_age.head(2)"
   ]
  },
  {
   "cell_type": "code",
   "execution_count": 151,
   "id": "e190d0cf",
   "metadata": {},
   "outputs": [
    {
     "data": {
      "text/plain": [
       "2    65\n",
       "3    35\n",
       "dtype: int64"
      ]
     },
     "execution_count": 151,
     "metadata": {},
     "output_type": "execute_result"
    }
   ],
   "source": [
    "series_age.tail(2)"
   ]
  },
  {
   "cell_type": "code",
   "execution_count": 152,
   "id": "e6af2274",
   "metadata": {},
   "outputs": [],
   "source": [
    "employees_work_exp = pd.Series({\n",
    "'Amy White'   : 3,\n",
    "'Jack Stewart'   : 5,\n",
    "'Richard Lauderdale'  : 4.5,\n",
    "'Sara Johnson'  : 22,\n",
    "'Patrick Adams' : 28,\n",
    "'Jessica Baker'  : 14,\n",
    "'Peter Hunt'   : 4,\n",
    "'Daniel Lloyd'  : 6,\n",
    "'John Owen'   : 1.5,\n",
    "'Jennifer Phillips'  : 10,\n",
    "'Courtney Rogers'   : 4.5,\n",
    "'Anne Robinson'  : 2,\n",
    "})"
   ]
  },
  {
   "cell_type": "code",
   "execution_count": 153,
   "id": "f2412f48",
   "metadata": {},
   "outputs": [
    {
     "name": "stdout",
     "output_type": "stream",
     "text": [
      "Amy White              3.0\n",
      "Jack Stewart           5.0\n",
      "Richard Lauderdale     4.5\n",
      "Sara Johnson          22.0\n",
      "Patrick Adams         28.0\n",
      "Jessica Baker         14.0\n",
      "Peter Hunt             4.0\n",
      "Daniel Lloyd           6.0\n",
      "John Owen              1.5\n",
      "Jennifer Phillips     10.0\n",
      "Courtney Rogers        4.5\n",
      "Anne Robinson          2.0\n",
      "dtype: float64\n"
     ]
    }
   ],
   "source": [
    "print(employees_work_exp)"
   ]
  },
  {
   "cell_type": "code",
   "execution_count": 154,
   "id": "3d691316",
   "metadata": {},
   "outputs": [
    {
     "name": "stdout",
     "output_type": "stream",
     "text": [
      "Amy White              3.0\n",
      "Jack Stewart           5.0\n",
      "Richard Lauderdale     4.5\n",
      "Sara Johnson          22.0\n",
      "Patrick Adams         28.0\n",
      "dtype: float64\n"
     ]
    }
   ],
   "source": [
    "print(employees_work_exp.head())"
   ]
  },
  {
   "cell_type": "markdown",
   "id": "417ae937",
   "metadata": {},
   "source": [
    "employees_work_exp.tail()"
   ]
  },
  {
   "cell_type": "code",
   "execution_count": 160,
   "id": "bb97cfc1",
   "metadata": {},
   "outputs": [
    {
     "name": "stdout",
     "output_type": "stream",
     "text": [
      "                 Name  Age  Working Experience (Yrs.)\n",
      "0           Amy White   50                          5\n",
      "1        Jack Stewart   53                          8\n",
      "2  Richard Lauderdale   35                          3\n",
      "3        Sara Johnson   43                         10\n"
     ]
    }
   ],
   "source": [
    "data = {'Name':['Amy White', 'Jack Stewart', 'Richard Lauderdale', 'Sara Johnson'],'Age':[50,53,35,43],'Working Experience (Yrs.)':[5,8,3,10]}\n",
    "df = pd.DataFrame(data);\n",
    "print(df)"
   ]
  },
  {
   "cell_type": "markdown",
   "id": "902d0caa",
   "metadata": {},
   "source": [
    "ON data frames, Dictionary indexes are column names and their datas are row"
   ]
  },
  {
   "cell_type": "code",
   "execution_count": 164,
   "id": "ca1954f9",
   "metadata": {},
   "outputs": [
    {
     "data": {
      "text/plain": [
       "list"
      ]
     },
     "execution_count": 164,
     "metadata": {},
     "output_type": "execute_result"
    }
   ],
   "source": [
    "type(data)"
   ]
  },
  {
   "cell_type": "raw",
   "id": "cdb7a75f",
   "metadata": {},
   "source": [
    "Creating Data frames using list"
   ]
  },
  {
   "cell_type": "code",
   "execution_count": 162,
   "id": "59f5605c",
   "metadata": {},
   "outputs": [],
   "source": [
    "\n",
    "data = [{'Name' :'Amy White','Age':50,'Working Experience (Yrs.)':5},\n",
    "        {'Name' :'Jack Stewart','Age':53,'Working Experience (Yrs.)':8},\n",
    "        {'Name' :'Richard Lauderdale','Age':35,'Working Experience (Yrs.)':3},\n",
    "        {'Name' :'Sara Johnson','Age':43,'Working Experience (Yrs.)':10}]\n"
   ]
  },
  {
   "cell_type": "code",
   "execution_count": 163,
   "id": "df7e6190",
   "metadata": {},
   "outputs": [
    {
     "data": {
      "text/plain": [
       "list"
      ]
     },
     "execution_count": 163,
     "metadata": {},
     "output_type": "execute_result"
    }
   ],
   "source": [
    "type(data)"
   ]
  },
  {
   "cell_type": "code",
   "execution_count": 165,
   "id": "eb4c2d61",
   "metadata": {},
   "outputs": [],
   "source": [
    "df = pd.DataFrame(data)"
   ]
  },
  {
   "cell_type": "code",
   "execution_count": 166,
   "id": "70cee78f",
   "metadata": {},
   "outputs": [
    {
     "name": "stdout",
     "output_type": "stream",
     "text": [
      "                 Name  Age  Working Experience (Yrs.)\n",
      "0           Amy White   50                          5\n",
      "1        Jack Stewart   53                          8\n",
      "2  Richard Lauderdale   35                          3\n",
      "3        Sara Johnson   43                         10\n"
     ]
    }
   ],
   "source": [
    "print(df)"
   ]
  },
  {
   "cell_type": "markdown",
   "id": "d058c886",
   "metadata": {},
   "source": [
    "Data frames can be created via\n",
    "#1 : Dictionary of lists\n",
    "#2 : Dictionar of lists + specifying an index\n",
    "#3 : list of dictionaries\n",
    "#4 : dictionary of panda series\n"
   ]
  },
  {
   "cell_type": "code",
   "execution_count": 167,
   "id": "a6794a61",
   "metadata": {},
   "outputs": [],
   "source": [
    "df = pd.DataFrame(data, index=['A','B','C','D'])"
   ]
  },
  {
   "cell_type": "code",
   "execution_count": 168,
   "id": "8b945575",
   "metadata": {},
   "outputs": [
    {
     "data": {
      "text/html": [
       "<div>\n",
       "<style scoped>\n",
       "    .dataframe tbody tr th:only-of-type {\n",
       "        vertical-align: middle;\n",
       "    }\n",
       "\n",
       "    .dataframe tbody tr th {\n",
       "        vertical-align: top;\n",
       "    }\n",
       "\n",
       "    .dataframe thead th {\n",
       "        text-align: right;\n",
       "    }\n",
       "</style>\n",
       "<table border=\"1\" class=\"dataframe\">\n",
       "  <thead>\n",
       "    <tr style=\"text-align: right;\">\n",
       "      <th></th>\n",
       "      <th>Name</th>\n",
       "      <th>Age</th>\n",
       "      <th>Working Experience (Yrs.)</th>\n",
       "    </tr>\n",
       "  </thead>\n",
       "  <tbody>\n",
       "    <tr>\n",
       "      <th>A</th>\n",
       "      <td>Amy White</td>\n",
       "      <td>50</td>\n",
       "      <td>5</td>\n",
       "    </tr>\n",
       "    <tr>\n",
       "      <th>B</th>\n",
       "      <td>Jack Stewart</td>\n",
       "      <td>53</td>\n",
       "      <td>8</td>\n",
       "    </tr>\n",
       "    <tr>\n",
       "      <th>C</th>\n",
       "      <td>Richard Lauderdale</td>\n",
       "      <td>35</td>\n",
       "      <td>3</td>\n",
       "    </tr>\n",
       "    <tr>\n",
       "      <th>D</th>\n",
       "      <td>Sara Johnson</td>\n",
       "      <td>43</td>\n",
       "      <td>10</td>\n",
       "    </tr>\n",
       "  </tbody>\n",
       "</table>\n",
       "</div>"
      ],
      "text/plain": [
       "                 Name  Age  Working Experience (Yrs.)\n",
       "A           Amy White   50                          5\n",
       "B        Jack Stewart   53                          8\n",
       "C  Richard Lauderdale   35                          3\n",
       "D        Sara Johnson   43                         10"
      ]
     },
     "execution_count": 168,
     "metadata": {},
     "output_type": "execute_result"
    }
   ],
   "source": [
    "df"
   ]
  },
  {
   "cell_type": "code",
   "execution_count": 172,
   "id": "f6efdc2b",
   "metadata": {},
   "outputs": [
    {
     "data": {
      "text/plain": [
       "Index(['Name', 'Age', 'Working Experience (Yrs.)'], dtype='object')"
      ]
     },
     "execution_count": 172,
     "metadata": {},
     "output_type": "execute_result"
    }
   ],
   "source": [
    "df.columns"
   ]
  },
  {
   "cell_type": "code",
   "execution_count": 174,
   "id": "39f87d81",
   "metadata": {},
   "outputs": [
    {
     "data": {
      "text/plain": [
       "(4, 3)"
      ]
     },
     "execution_count": 174,
     "metadata": {},
     "output_type": "execute_result"
    }
   ],
   "source": [
    "df.shape"
   ]
  },
  {
   "cell_type": "code",
   "execution_count": 175,
   "id": "b616309b",
   "metadata": {},
   "outputs": [
    {
     "data": {
      "text/html": [
       "<div>\n",
       "<style scoped>\n",
       "    .dataframe tbody tr th:only-of-type {\n",
       "        vertical-align: middle;\n",
       "    }\n",
       "\n",
       "    .dataframe tbody tr th {\n",
       "        vertical-align: top;\n",
       "    }\n",
       "\n",
       "    .dataframe thead th {\n",
       "        text-align: right;\n",
       "    }\n",
       "</style>\n",
       "<table border=\"1\" class=\"dataframe\">\n",
       "  <thead>\n",
       "    <tr style=\"text-align: right;\">\n",
       "      <th></th>\n",
       "      <th>Name</th>\n",
       "      <th>Age</th>\n",
       "      <th>Working Experience (Yrs.)</th>\n",
       "    </tr>\n",
       "  </thead>\n",
       "  <tbody>\n",
       "    <tr>\n",
       "      <th>D</th>\n",
       "      <td>Sara Johnson</td>\n",
       "      <td>43</td>\n",
       "      <td>10</td>\n",
       "    </tr>\n",
       "  </tbody>\n",
       "</table>\n",
       "</div>"
      ],
      "text/plain": [
       "           Name  Age  Working Experience (Yrs.)\n",
       "D  Sara Johnson   43                         10"
      ]
     },
     "execution_count": 175,
     "metadata": {},
     "output_type": "execute_result"
    }
   ],
   "source": [
    "df.iloc[[3]]"
   ]
  },
  {
   "cell_type": "code",
   "execution_count": 177,
   "id": "18b42f4b",
   "metadata": {},
   "outputs": [
    {
     "data": {
      "text/html": [
       "<div>\n",
       "<style scoped>\n",
       "    .dataframe tbody tr th:only-of-type {\n",
       "        vertical-align: middle;\n",
       "    }\n",
       "\n",
       "    .dataframe tbody tr th {\n",
       "        vertical-align: top;\n",
       "    }\n",
       "\n",
       "    .dataframe thead th {\n",
       "        text-align: right;\n",
       "    }\n",
       "</style>\n",
       "<table border=\"1\" class=\"dataframe\">\n",
       "  <thead>\n",
       "    <tr style=\"text-align: right;\">\n",
       "      <th></th>\n",
       "      <th>Name</th>\n",
       "      <th>Age</th>\n",
       "      <th>Working Experience (Yrs.)</th>\n",
       "    </tr>\n",
       "  </thead>\n",
       "  <tbody>\n",
       "    <tr>\n",
       "      <th>D</th>\n",
       "      <td>Sara Johnson</td>\n",
       "      <td>43</td>\n",
       "      <td>10</td>\n",
       "    </tr>\n",
       "    <tr>\n",
       "      <th>A</th>\n",
       "      <td>Amy White</td>\n",
       "      <td>50</td>\n",
       "      <td>5</td>\n",
       "    </tr>\n",
       "  </tbody>\n",
       "</table>\n",
       "</div>"
      ],
      "text/plain": [
       "           Name  Age  Working Experience (Yrs.)\n",
       "D  Sara Johnson   43                         10\n",
       "A     Amy White   50                          5"
      ]
     },
     "execution_count": 177,
     "metadata": {},
     "output_type": "execute_result"
    }
   ],
   "source": [
    "df.iloc[[3,0]]"
   ]
  },
  {
   "cell_type": "code",
   "execution_count": 179,
   "id": "24ead5c1",
   "metadata": {},
   "outputs": [],
   "source": [
    "df.index=[1,2,3,4]"
   ]
  },
  {
   "cell_type": "code",
   "execution_count": 180,
   "id": "dd4cf9ed",
   "metadata": {},
   "outputs": [
    {
     "data": {
      "text/html": [
       "<div>\n",
       "<style scoped>\n",
       "    .dataframe tbody tr th:only-of-type {\n",
       "        vertical-align: middle;\n",
       "    }\n",
       "\n",
       "    .dataframe tbody tr th {\n",
       "        vertical-align: top;\n",
       "    }\n",
       "\n",
       "    .dataframe thead th {\n",
       "        text-align: right;\n",
       "    }\n",
       "</style>\n",
       "<table border=\"1\" class=\"dataframe\">\n",
       "  <thead>\n",
       "    <tr style=\"text-align: right;\">\n",
       "      <th></th>\n",
       "      <th>Name</th>\n",
       "      <th>Age</th>\n",
       "      <th>Working Experience (Yrs.)</th>\n",
       "    </tr>\n",
       "  </thead>\n",
       "  <tbody>\n",
       "    <tr>\n",
       "      <th>1</th>\n",
       "      <td>Amy White</td>\n",
       "      <td>50</td>\n",
       "      <td>5</td>\n",
       "    </tr>\n",
       "    <tr>\n",
       "      <th>2</th>\n",
       "      <td>Jack Stewart</td>\n",
       "      <td>53</td>\n",
       "      <td>8</td>\n",
       "    </tr>\n",
       "    <tr>\n",
       "      <th>3</th>\n",
       "      <td>Richard Lauderdale</td>\n",
       "      <td>35</td>\n",
       "      <td>3</td>\n",
       "    </tr>\n",
       "    <tr>\n",
       "      <th>4</th>\n",
       "      <td>Sara Johnson</td>\n",
       "      <td>43</td>\n",
       "      <td>10</td>\n",
       "    </tr>\n",
       "  </tbody>\n",
       "</table>\n",
       "</div>"
      ],
      "text/plain": [
       "                 Name  Age  Working Experience (Yrs.)\n",
       "1           Amy White   50                          5\n",
       "2        Jack Stewart   53                          8\n",
       "3  Richard Lauderdale   35                          3\n",
       "4        Sara Johnson   43                         10"
      ]
     },
     "execution_count": 180,
     "metadata": {},
     "output_type": "execute_result"
    }
   ],
   "source": [
    "df"
   ]
  }
 ],
 "metadata": {
  "kernelspec": {
   "display_name": "Python 3 (ipykernel)",
   "language": "python",
   "name": "python3"
  },
  "language_info": {
   "codemirror_mode": {
    "name": "ipython",
    "version": 3
   },
   "file_extension": ".py",
   "mimetype": "text/x-python",
   "name": "python",
   "nbconvert_exporter": "python",
   "pygments_lexer": "ipython3",
   "version": "3.11.3"
  }
 },
 "nbformat": 4,
 "nbformat_minor": 5
}
